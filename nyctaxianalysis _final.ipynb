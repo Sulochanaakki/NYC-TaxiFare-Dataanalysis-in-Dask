{
 "cells": [
  {
   "cell_type": "markdown",
   "id": "762351a5",
   "metadata": {},
   "source": [
    "### NY City Taxi Fare Prediction Exploration using Dask"
   ]
  },
  {
   "cell_type": "markdown",
   "id": "04b848e4",
   "metadata": {},
   "source": [
    "This is data on New York City Taxi Cab trips,the Dataset published by NYC,there is over 15 million trips.Our dataset includes every cab ride in the city of New York in the year of 2015, including when and where it started and stopped, a breakdown of the fare, etc.\n",
    "The data is from [here](https://www.kaggle.com/kentonnlp/2014-new-york-city-taxi-trips?select=nyc_taxi_data_2014.csv).\n",
    "\n",
    " Features I am using for my prediction are\n",
    "- vendor_id - str\n",
    "- fare_amount - float dollar amount of the cost of the taxi ride\n",
    "- pickup_datetime - timestamp value indicating when the taxi ride started.\n",
    "- dropoff_datetime - timestamp value indicating when the taxi ride ended.\n",
    "- pickup_longitude - float for longitude coordinate of where the taxi ride started.\n",
    "- pickup_latitude - float for latitude coordinate of where the taxi ride started.\n",
    "- dropoff_longitude - float for longitude coordinate of where the taxi ride ended.\n",
    "- dropoff_latitude - float for latitude coordinate of where the taxi ride ended.\n",
    "- trip_distance -  float for distance of where the taxi ride traveled.\n",
    "- passenger_count - integer indicating the number of passengers in the taxi ride(driver entered value).\n",
    "- payment_type - str of what kind of payment the passenger done.\n",
    "- tip amount - float how much  tip the passenger given.\n",
    "\n"
   ]
  },
  {
   "cell_type": "markdown",
   "id": "cafa4bc8-4a29-4ad1-8757-c8952330f2c3",
   "metadata": {},
   "source": [
    "This data is too large to fit into Pandas on a single computer. However, it can fit in memory if we break it up into many small pieces and load these pieces onto different computers across a cluster.\n",
    "\n",
    "We connect a client to our Dask cluster, composed of one centralized dask-scheduler process and several dask-worker processes running on each of the machines in our cluster."
   ]
  },
  {
   "cell_type": "markdown",
   "id": "906dfb22",
   "metadata": {},
   "source": [
    "#### importing necessary libraries"
   ]
  },
  {
   "cell_type": "code",
   "execution_count": 1,
   "id": "dac8ad30",
   "metadata": {},
   "outputs": [
    {
     "name": "stdout",
     "output_type": "stream",
     "text": [
      "CPU times: user 3.87 s, sys: 3.09 s, total: 6.95 s\n",
      "Wall time: 6 s\n"
     ]
    },
    {
     "data": {
      "text/html": [
       "<div>\n",
       "    <div style=\"width: 24px; height: 24px; background-color: #e1e1e1; border: 3px solid #9D9D9D; border-radius: 5px; position: absolute;\"> </div>\n",
       "    <div style=\"margin-left: 48px;\">\n",
       "        <h3 style=\"margin-bottom: 0px;\">Client</h3>\n",
       "        <p style=\"color: #9D9D9D; margin-bottom: 0px;\">Client-1ea67917-4bd3-11ec-8433-00155d012cab</p>\n",
       "        <table style=\"width: 100%; text-align: left;\">\n",
       "\n",
       "        <tr>\n",
       "        \n",
       "            <td style=\"text-align: left;\"><strong>Connection method:</strong> Direct</td>\n",
       "            <td style=\"text-align: left;\"></td>\n",
       "        \n",
       "        </tr>\n",
       "\n",
       "        \n",
       "            <tr>\n",
       "                <td style=\"text-align: left;\">\n",
       "                    <strong>Dashboard: </strong> <a href=\"http://172.20.115.128:42571/status\" target=\"_blank\">http://172.20.115.128:42571/status</a>\n",
       "                </td>\n",
       "                <td style=\"text-align: left;\"></td>\n",
       "            </tr>\n",
       "        \n",
       "\n",
       "        </table>\n",
       "\n",
       "        \n",
       "            <details>\n",
       "            <summary style=\"margin-bottom: 20px;\"><h3 style=\"display: inline;\">Scheduler Info</h3></summary>\n",
       "            <div style=\"\">\n",
       "    <div>\n",
       "        <div style=\"width: 24px; height: 24px; background-color: #FFF7E5; border: 3px solid #FF6132; border-radius: 5px; position: absolute;\"> </div>\n",
       "        <div style=\"margin-left: 48px;\">\n",
       "            <h3 style=\"margin-bottom: 0px;\">Scheduler</h3>\n",
       "            <p style=\"color: #9D9D9D; margin-bottom: 0px;\">Scheduler-fd1ad6d1-98b3-40f2-9cdc-d6bdebe0ab66</p>\n",
       "            <table style=\"width: 100%; text-align: left;\">\n",
       "                <tr>\n",
       "                    <td style=\"text-align: left;\">\n",
       "                        <strong>Comm:</strong> tcp://172.20.115.128:8786\n",
       "                    </td>\n",
       "                    <td style=\"text-align: left;\">\n",
       "                        <strong>Workers:</strong> 2\n",
       "                    </td>\n",
       "                </tr>\n",
       "                <tr>\n",
       "                    <td style=\"text-align: left;\">\n",
       "                        <strong>Dashboard:</strong> <a href=\"http://172.20.115.128:42571/status\" target=\"_blank\">http://172.20.115.128:42571/status</a>\n",
       "                    </td>\n",
       "                    <td style=\"text-align: left;\">\n",
       "                        <strong>Total threads:</strong> 16\n",
       "                    </td>\n",
       "                </tr>\n",
       "                <tr>\n",
       "                    <td style=\"text-align: left;\">\n",
       "                        <strong>Started:</strong> 17 minutes ago\n",
       "                    </td>\n",
       "                    <td style=\"text-align: left;\">\n",
       "                        <strong>Total memory:</strong> 24.61 GiB\n",
       "                    </td>\n",
       "                </tr>\n",
       "            </table>\n",
       "        </div>\n",
       "    </div>\n",
       "\n",
       "    <details style=\"margin-left: 48px;\">\n",
       "        <summary style=\"margin-bottom: 20px;\">\n",
       "            <h3 style=\"display: inline;\">Workers</h3>\n",
       "        </summary>\n",
       "\n",
       "        \n",
       "        <div style=\"margin-bottom: 20px;\">\n",
       "            <div style=\"width: 24px; height: 24px; background-color: #DBF5FF; border: 3px solid #4CC9FF; border-radius: 5px; position: absolute;\"> </div>\n",
       "            <div style=\"margin-left: 48px;\">\n",
       "            <details>\n",
       "                <summary>\n",
       "                    <h4 style=\"margin-bottom: 0px; display: inline;\">Worker: tcp://172.20.115.128:43651</h4>\n",
       "                </summary>\n",
       "                <table style=\"width: 100%; text-align: left;\">\n",
       "                    <tr>\n",
       "                        <td style=\"text-align: left;\">\n",
       "                            <strong>Comm: </strong> tcp://172.20.115.128:43651\n",
       "                        </td>\n",
       "                        <td style=\"text-align: left;\">\n",
       "                            <strong>Total threads: </strong> 8\n",
       "                        </td>\n",
       "                    </tr>\n",
       "                    <tr>\n",
       "                        <td style=\"text-align: left;\">\n",
       "                            <strong>Dashboard: </strong> <a href=\"http://172.20.115.128:46573/status\" target=\"_blank\">http://172.20.115.128:46573/status</a>\n",
       "                        </td>\n",
       "                        <td style=\"text-align: left;\">\n",
       "                            <strong>Memory: </strong> 12.31 GiB\n",
       "                        </td>\n",
       "                    </tr>\n",
       "                    <tr>\n",
       "                        <td style=\"text-align: left;\">\n",
       "                            <strong>Nanny: </strong> tcp://172.20.115.128:45541\n",
       "                        </td>\n",
       "                        <td style=\"text-align: left;\"></td>\n",
       "                    </tr>\n",
       "                    <tr>\n",
       "                        <td colspan=\"2\" style=\"text-align: left;\">\n",
       "                            <strong>Local directory: </strong> /home/sulochana/dask-worker-space/worker-v1a4mqee\n",
       "                        </td>\n",
       "                    </tr>\n",
       "\n",
       "                    \n",
       "\n",
       "                    \n",
       "                    <tr>\n",
       "                        <td style=\"text-align: left;\">\n",
       "                            <strong>Tasks executing: </strong> 8\n",
       "                        </td>\n",
       "                        <td style=\"text-align: left;\">\n",
       "                            <strong>Tasks in memory: </strong> 8\n",
       "                        </td>\n",
       "                    </tr>\n",
       "                    <tr>\n",
       "                        <td style=\"text-align: left;\">\n",
       "                            <strong>Tasks ready: </strong> 6\n",
       "                        </td>\n",
       "                        <td style=\"text-align: left;\">\n",
       "                            <strong>Tasks in flight: </strong>0\n",
       "                        </td>\n",
       "                    </tr>\n",
       "                    <tr>\n",
       "                        <td style=\"text-align: left;\">\n",
       "                            <strong>CPU usage:</strong> 325.0%\n",
       "                        </td>\n",
       "                        <td style=\"text-align: left;\">\n",
       "                            <strong>Last seen: </strong> Just now\n",
       "                        </td>\n",
       "                    </tr>\n",
       "                    <tr>\n",
       "                        <td style=\"text-align: left;\">\n",
       "                            <strong>Memory usage: </strong> 5.13 GiB\n",
       "                        </td>\n",
       "                        <td style=\"text-align: left;\">\n",
       "                            <strong>Spilled bytes: </strong> 0 B\n",
       "                        </td>\n",
       "                    </tr>\n",
       "                    <tr>\n",
       "                        <td style=\"text-align: left;\">\n",
       "                            <strong>Read bytes: </strong> 11.89 kiB\n",
       "                        </td>\n",
       "                        <td style=\"text-align: left;\">\n",
       "                            <strong>Write bytes: </strong> 16.33 kiB\n",
       "                        </td>\n",
       "                    </tr>\n",
       "                    \n",
       "\n",
       "                </table>\n",
       "            </details>\n",
       "            </div>\n",
       "        </div>\n",
       "        \n",
       "        <div style=\"margin-bottom: 20px;\">\n",
       "            <div style=\"width: 24px; height: 24px; background-color: #DBF5FF; border: 3px solid #4CC9FF; border-radius: 5px; position: absolute;\"> </div>\n",
       "            <div style=\"margin-left: 48px;\">\n",
       "            <details>\n",
       "                <summary>\n",
       "                    <h4 style=\"margin-bottom: 0px; display: inline;\">Worker: tcp://172.20.115.128:44367</h4>\n",
       "                </summary>\n",
       "                <table style=\"width: 100%; text-align: left;\">\n",
       "                    <tr>\n",
       "                        <td style=\"text-align: left;\">\n",
       "                            <strong>Comm: </strong> tcp://172.20.115.128:44367\n",
       "                        </td>\n",
       "                        <td style=\"text-align: left;\">\n",
       "                            <strong>Total threads: </strong> 8\n",
       "                        </td>\n",
       "                    </tr>\n",
       "                    <tr>\n",
       "                        <td style=\"text-align: left;\">\n",
       "                            <strong>Dashboard: </strong> <a href=\"http://172.20.115.128:45499/status\" target=\"_blank\">http://172.20.115.128:45499/status</a>\n",
       "                        </td>\n",
       "                        <td style=\"text-align: left;\">\n",
       "                            <strong>Memory: </strong> 12.31 GiB\n",
       "                        </td>\n",
       "                    </tr>\n",
       "                    <tr>\n",
       "                        <td style=\"text-align: left;\">\n",
       "                            <strong>Nanny: </strong> tcp://172.20.115.128:43035\n",
       "                        </td>\n",
       "                        <td style=\"text-align: left;\"></td>\n",
       "                    </tr>\n",
       "                    <tr>\n",
       "                        <td colspan=\"2\" style=\"text-align: left;\">\n",
       "                            <strong>Local directory: </strong> /home/sulochana/dask-worker-space/worker-dmuzvgb9\n",
       "                        </td>\n",
       "                    </tr>\n",
       "\n",
       "                    \n",
       "\n",
       "                    \n",
       "                    <tr>\n",
       "                        <td style=\"text-align: left;\">\n",
       "                            <strong>Tasks executing: </strong> 8\n",
       "                        </td>\n",
       "                        <td style=\"text-align: left;\">\n",
       "                            <strong>Tasks in memory: </strong> 5\n",
       "                        </td>\n",
       "                    </tr>\n",
       "                    <tr>\n",
       "                        <td style=\"text-align: left;\">\n",
       "                            <strong>Tasks ready: </strong> 2\n",
       "                        </td>\n",
       "                        <td style=\"text-align: left;\">\n",
       "                            <strong>Tasks in flight: </strong>1\n",
       "                        </td>\n",
       "                    </tr>\n",
       "                    <tr>\n",
       "                        <td style=\"text-align: left;\">\n",
       "                            <strong>CPU usage:</strong> 104.8%\n",
       "                        </td>\n",
       "                        <td style=\"text-align: left;\">\n",
       "                            <strong>Last seen: </strong> Just now\n",
       "                        </td>\n",
       "                    </tr>\n",
       "                    <tr>\n",
       "                        <td style=\"text-align: left;\">\n",
       "                            <strong>Memory usage: </strong> 3.95 GiB\n",
       "                        </td>\n",
       "                        <td style=\"text-align: left;\">\n",
       "                            <strong>Spilled bytes: </strong> 0 B\n",
       "                        </td>\n",
       "                    </tr>\n",
       "                    <tr>\n",
       "                        <td style=\"text-align: left;\">\n",
       "                            <strong>Read bytes: </strong> 4.08 kiB\n",
       "                        </td>\n",
       "                        <td style=\"text-align: left;\">\n",
       "                            <strong>Write bytes: </strong> 10.90 kiB\n",
       "                        </td>\n",
       "                    </tr>\n",
       "                    \n",
       "\n",
       "                </table>\n",
       "            </details>\n",
       "            </div>\n",
       "        </div>\n",
       "        \n",
       "\n",
       "    </details>\n",
       "</div>\n",
       "            </details>\n",
       "        \n",
       "\n",
       "    </div>\n",
       "</div>"
      ],
      "text/plain": [
       "<Client: 'tcp://172.20.115.128:8786' processes=2 threads=16, memory=24.61 GiB>"
      ]
     },
     "execution_count": 1,
     "metadata": {},
     "output_type": "execute_result"
    }
   ],
   "source": [
    "%%time\n",
    "import numpy as np\n",
    "import pandas as pd\n",
    "import urllib.request\n",
    "import math\n",
    "import seaborn as sns     \n",
    "sns.set()\n",
    "import matplotlib.pyplot as plt\n",
    "%matplotlib inline\n",
    "from geopy.distance import great_circle\n",
    "import warnings\n",
    "warnings.filterwarnings('ignore')\n",
    "import folium                                        # map visualizations\n",
    "from folium.plugins import HeatMap\n",
    "import dask\n",
    "import dask.dataframe as dd\n",
    "import dask.multiprocessing\n",
    "from dask.distributed import Client,progress \n",
    "client=Client('172.20.115.128:8786')\n",
    "#dask.config.set({\"distributed.comm.timeouts.connect\": \"50s\"})\n",
    "client"
   ]
  },
  {
   "cell_type": "markdown",
   "id": "35eb3f73",
   "metadata": {},
   "source": [
    "#### Extracting zipfile"
   ]
  },
  {
   "cell_type": "code",
   "execution_count": 2,
   "id": "e73b9b6c",
   "metadata": {},
   "outputs": [],
   "source": [
    "import zipfile\n",
    "with zipfile.ZipFile(\"archive (1).zip\") as zip_ref:\n",
    "    zip_ref.extractall(\"taxidata\")"
   ]
  },
  {
   "cell_type": "markdown",
   "id": "d864a2ad",
   "metadata": {},
   "source": [
    " Set columns to most suitable type to optimize for memory usage and speed-up the loading and select the columns (names) that you truly need for analysis"
   ]
  },
  {
   "cell_type": "code",
   "execution_count": 3,
   "id": "3e8ea58d",
   "metadata": {},
   "outputs": [
    {
     "name": "stdout",
     "output_type": "stream",
     "text": [
      "CPU times: user 6 µs, sys: 2 µs, total: 8 µs\n",
      "Wall time: 12.4 µs\n"
     ]
    }
   ],
   "source": [
    "%%time\n",
    "# Set columns to most suitable type to optimize for memory usage and speed-up the loading\n",
    "data_types = {'vendor_id' : 'str',\n",
    "               'fare_amount'      : 'float32',\n",
    "               'pickup_datetime'  : 'str', \n",
    "               'dropoff_datetime' : 'str',\n",
    "               'passenger_count' :'float',\n",
    "               'trip_distance':   'float',\n",
    "               'pickup_longitude' : 'float32',\n",
    "               'pickup_latitude'  : 'float32',\n",
    "               #'store_and_fwd_flag' : 'str',\n",
    "               'dropoff_longitude': 'float32',\n",
    "               'dropoff_latitude' : 'float32',\n",
    "               'payment_type' :   'str',\n",
    "               'tip_amount' :'float',\n",
    "        \n",
    "             }\n",
    "\n",
    "#select the columns (names) that you truly need for analysis\n",
    "data_cols = list(data_types.keys())"
   ]
  },
  {
   "cell_type": "markdown",
   "id": "94225082",
   "metadata": {},
   "source": [
    "#### Reading csv file,creating dask data frame and understanding data\n",
    "\n",
    "And we load our CSV data using dask.dataframe which looks and feels just like Pandas, even though it’s actually coordinating hundreds of small Pandas dataframes. This takes about a minute to load and parse."
   ]
  },
  {
   "cell_type": "code",
   "execution_count": 4,
   "id": "3aeb9592",
   "metadata": {},
   "outputs": [
    {
     "name": "stdout",
     "output_type": "stream",
     "text": [
      "CPU times: user 135 ms, sys: 17.9 ms, total: 153 ms\n",
      "Wall time: 3.47 s\n"
     ]
    },
    {
     "data": {
      "text/html": [
       "<div>\n",
       "<style scoped>\n",
       "    .dataframe tbody tr th:only-of-type {\n",
       "        vertical-align: middle;\n",
       "    }\n",
       "\n",
       "    .dataframe tbody tr th {\n",
       "        vertical-align: top;\n",
       "    }\n",
       "\n",
       "    .dataframe thead th {\n",
       "        text-align: right;\n",
       "    }\n",
       "</style>\n",
       "<table border=\"1\" class=\"dataframe\">\n",
       "  <thead>\n",
       "    <tr style=\"text-align: right;\">\n",
       "      <th></th>\n",
       "      <th>vendor_id</th>\n",
       "      <th>pickup_datetime</th>\n",
       "      <th>dropoff_datetime</th>\n",
       "      <th>passenger_count</th>\n",
       "      <th>trip_distance</th>\n",
       "      <th>pickup_longitude</th>\n",
       "      <th>pickup_latitude</th>\n",
       "      <th>dropoff_longitude</th>\n",
       "      <th>dropoff_latitude</th>\n",
       "      <th>payment_type</th>\n",
       "      <th>fare_amount</th>\n",
       "      <th>tip_amount</th>\n",
       "    </tr>\n",
       "  </thead>\n",
       "  <tbody>\n",
       "    <tr>\n",
       "      <th>0</th>\n",
       "      <td>CMT</td>\n",
       "      <td>2014-01-09 20:45:25</td>\n",
       "      <td>2014-01-09 20:52:31</td>\n",
       "      <td>1.0</td>\n",
       "      <td>0.7</td>\n",
       "      <td>-73.994766</td>\n",
       "      <td>40.736828</td>\n",
       "      <td>-73.982224</td>\n",
       "      <td>40.731789</td>\n",
       "      <td>CRD</td>\n",
       "      <td>6.5</td>\n",
       "      <td>1.40</td>\n",
       "    </tr>\n",
       "    <tr>\n",
       "      <th>1</th>\n",
       "      <td>CMT</td>\n",
       "      <td>2014-01-09 20:46:12</td>\n",
       "      <td>2014-01-09 20:55:12</td>\n",
       "      <td>1.0</td>\n",
       "      <td>1.4</td>\n",
       "      <td>-73.982391</td>\n",
       "      <td>40.773380</td>\n",
       "      <td>-73.960449</td>\n",
       "      <td>40.763996</td>\n",
       "      <td>CRD</td>\n",
       "      <td>8.5</td>\n",
       "      <td>1.90</td>\n",
       "    </tr>\n",
       "    <tr>\n",
       "      <th>2</th>\n",
       "      <td>CMT</td>\n",
       "      <td>2014-01-09 20:44:47</td>\n",
       "      <td>2014-01-09 20:59:46</td>\n",
       "      <td>2.0</td>\n",
       "      <td>2.3</td>\n",
       "      <td>-73.988571</td>\n",
       "      <td>40.739407</td>\n",
       "      <td>-73.986626</td>\n",
       "      <td>40.765217</td>\n",
       "      <td>CRD</td>\n",
       "      <td>11.5</td>\n",
       "      <td>1.50</td>\n",
       "    </tr>\n",
       "    <tr>\n",
       "      <th>3</th>\n",
       "      <td>CMT</td>\n",
       "      <td>2014-01-09 20:44:57</td>\n",
       "      <td>2014-01-09 20:51:40</td>\n",
       "      <td>1.0</td>\n",
       "      <td>1.7</td>\n",
       "      <td>-73.960213</td>\n",
       "      <td>40.770466</td>\n",
       "      <td>-73.979866</td>\n",
       "      <td>40.777050</td>\n",
       "      <td>CRD</td>\n",
       "      <td>7.5</td>\n",
       "      <td>1.70</td>\n",
       "    </tr>\n",
       "    <tr>\n",
       "      <th>4</th>\n",
       "      <td>CMT</td>\n",
       "      <td>2014-01-09 20:47:09</td>\n",
       "      <td>2014-01-09 20:53:32</td>\n",
       "      <td>1.0</td>\n",
       "      <td>0.9</td>\n",
       "      <td>-73.995369</td>\n",
       "      <td>40.717247</td>\n",
       "      <td>-73.984367</td>\n",
       "      <td>40.720524</td>\n",
       "      <td>CRD</td>\n",
       "      <td>6.0</td>\n",
       "      <td>1.75</td>\n",
       "    </tr>\n",
       "  </tbody>\n",
       "</table>\n",
       "</div>"
      ],
      "text/plain": [
       "  vendor_id      pickup_datetime     dropoff_datetime  passenger_count  \\\n",
       "0       CMT  2014-01-09 20:45:25  2014-01-09 20:52:31              1.0   \n",
       "1       CMT  2014-01-09 20:46:12  2014-01-09 20:55:12              1.0   \n",
       "2       CMT  2014-01-09 20:44:47  2014-01-09 20:59:46              2.0   \n",
       "3       CMT  2014-01-09 20:44:57  2014-01-09 20:51:40              1.0   \n",
       "4       CMT  2014-01-09 20:47:09  2014-01-09 20:53:32              1.0   \n",
       "\n",
       "   trip_distance  pickup_longitude  pickup_latitude  dropoff_longitude  \\\n",
       "0            0.7        -73.994766        40.736828         -73.982224   \n",
       "1            1.4        -73.982391        40.773380         -73.960449   \n",
       "2            2.3        -73.988571        40.739407         -73.986626   \n",
       "3            1.7        -73.960213        40.770466         -73.979866   \n",
       "4            0.9        -73.995369        40.717247         -73.984367   \n",
       "\n",
       "   dropoff_latitude payment_type  fare_amount  tip_amount  \n",
       "0         40.731789          CRD          6.5        1.40  \n",
       "1         40.763996          CRD          8.5        1.90  \n",
       "2         40.765217          CRD         11.5        1.50  \n",
       "3         40.777050          CRD          7.5        1.70  \n",
       "4         40.720524          CRD          6.0        1.75  "
      ]
     },
     "execution_count": 4,
     "metadata": {},
     "output_type": "execute_result"
    }
   ],
   "source": [
    "%%time\n",
    "taxi_data= dd.read_csv(\"taxidata/nyc_taxi_data_2014.csv\",sep=',',usecols=data_cols, dtype=data_types,engine='python')\n",
    "taxi_data.head()"
   ]
  },
  {
   "cell_type": "code",
   "execution_count": 5,
   "id": "4440222e",
   "metadata": {},
   "outputs": [
    {
     "name": "stdout",
     "output_type": "stream",
     "text": [
      "<class 'pandas.core.frame.DataFrame'>\n",
      "Int64Index: 14999999 entries, 0 to 209999\n",
      "Data columns (total 12 columns):\n",
      " #   Column             Dtype  \n",
      "---  ------             -----  \n",
      " 0   vendor_id          object \n",
      " 1   pickup_datetime    object \n",
      " 2   dropoff_datetime   object \n",
      " 3   passenger_count    float64\n",
      " 4   trip_distance      float64\n",
      " 5   pickup_longitude   float32\n",
      " 6   pickup_latitude    float32\n",
      " 7   dropoff_longitude  float32\n",
      " 8   dropoff_latitude   float32\n",
      " 9   payment_type       object \n",
      " 10  fare_amount        float32\n",
      " 11  tip_amount         float64\n",
      "dtypes: float32(5), float64(3), object(4)\n",
      "memory usage: 1.2+ GB\n"
     ]
    }
   ],
   "source": [
    "taxi_data.compute().info()"
   ]
  },
  {
   "cell_type": "code",
   "execution_count": 6,
   "id": "88b52d23",
   "metadata": {},
   "outputs": [],
   "source": [
    "#%%time\n",
    "#taxi_data.compute().info()"
   ]
  },
  {
   "cell_type": "markdown",
   "id": "d9596ffe",
   "metadata": {},
   "source": [
    "#### percentage of rows to load from 15 million rows"
   ]
  },
  {
   "cell_type": "code",
   "execution_count": 7,
   "id": "253a7539",
   "metadata": {},
   "outputs": [
    {
     "name": "stdout",
     "output_type": "stream",
     "text": [
      "CPU times: user 120 ms, sys: 88.1 ms, total: 209 ms\n",
      "Wall time: 5.17 s\n"
     ]
    },
    {
     "data": {
      "text/html": [
       "<div>\n",
       "<style scoped>\n",
       "    .dataframe tbody tr th:only-of-type {\n",
       "        vertical-align: middle;\n",
       "    }\n",
       "\n",
       "    .dataframe tbody tr th {\n",
       "        vertical-align: top;\n",
       "    }\n",
       "\n",
       "    .dataframe thead th {\n",
       "        text-align: right;\n",
       "    }\n",
       "</style>\n",
       "<table border=\"1\" class=\"dataframe\">\n",
       "  <thead>\n",
       "    <tr style=\"text-align: right;\">\n",
       "      <th></th>\n",
       "      <th>vendor_id</th>\n",
       "      <th>pickup_datetime</th>\n",
       "      <th>dropoff_datetime</th>\n",
       "      <th>passenger_count</th>\n",
       "      <th>trip_distance</th>\n",
       "      <th>pickup_longitude</th>\n",
       "      <th>pickup_latitude</th>\n",
       "      <th>dropoff_longitude</th>\n",
       "      <th>dropoff_latitude</th>\n",
       "      <th>payment_type</th>\n",
       "      <th>fare_amount</th>\n",
       "      <th>tip_amount</th>\n",
       "    </tr>\n",
       "  </thead>\n",
       "  <tbody>\n",
       "    <tr>\n",
       "      <th>281338</th>\n",
       "      <td>CMT</td>\n",
       "      <td>2014-01-11 22:47:28</td>\n",
       "      <td>2014-01-11 23:16:48</td>\n",
       "      <td>1.0</td>\n",
       "      <td>6.2</td>\n",
       "      <td>-73.968864</td>\n",
       "      <td>40.755829</td>\n",
       "      <td>-73.947762</td>\n",
       "      <td>40.815372</td>\n",
       "      <td>CRD</td>\n",
       "      <td>24.0</td>\n",
       "      <td>5.0</td>\n",
       "    </tr>\n",
       "    <tr>\n",
       "      <th>158910</th>\n",
       "      <td>CMT</td>\n",
       "      <td>2014-01-10 23:33:57</td>\n",
       "      <td>2014-01-10 23:42:20</td>\n",
       "      <td>1.0</td>\n",
       "      <td>2.7</td>\n",
       "      <td>-73.979576</td>\n",
       "      <td>40.743950</td>\n",
       "      <td>-73.952164</td>\n",
       "      <td>40.771236</td>\n",
       "      <td>CRD</td>\n",
       "      <td>10.0</td>\n",
       "      <td>2.0</td>\n",
       "    </tr>\n",
       "    <tr>\n",
       "      <th>54326</th>\n",
       "      <td>CMT</td>\n",
       "      <td>2014-01-10 08:20:27</td>\n",
       "      <td>2014-01-10 08:57:21</td>\n",
       "      <td>1.0</td>\n",
       "      <td>8.2</td>\n",
       "      <td>-73.933434</td>\n",
       "      <td>40.758213</td>\n",
       "      <td>-74.006035</td>\n",
       "      <td>40.705967</td>\n",
       "      <td>CRD</td>\n",
       "      <td>31.5</td>\n",
       "      <td>5.0</td>\n",
       "    </tr>\n",
       "    <tr>\n",
       "      <th>324542</th>\n",
       "      <td>CMT</td>\n",
       "      <td>2014-01-11 20:33:49</td>\n",
       "      <td>2014-01-11 20:38:19</td>\n",
       "      <td>1.0</td>\n",
       "      <td>0.9</td>\n",
       "      <td>-73.971642</td>\n",
       "      <td>40.795433</td>\n",
       "      <td>-73.966255</td>\n",
       "      <td>40.804573</td>\n",
       "      <td>CRD</td>\n",
       "      <td>5.5</td>\n",
       "      <td>1.3</td>\n",
       "    </tr>\n",
       "    <tr>\n",
       "      <th>208927</th>\n",
       "      <td>CMT</td>\n",
       "      <td>2014-01-11 03:38:35</td>\n",
       "      <td>2014-01-11 03:49:27</td>\n",
       "      <td>2.0</td>\n",
       "      <td>2.8</td>\n",
       "      <td>-73.988998</td>\n",
       "      <td>40.727135</td>\n",
       "      <td>-73.997444</td>\n",
       "      <td>40.756290</td>\n",
       "      <td>CRD</td>\n",
       "      <td>11.0</td>\n",
       "      <td>2.4</td>\n",
       "    </tr>\n",
       "  </tbody>\n",
       "</table>\n",
       "</div>"
      ],
      "text/plain": [
       "       vendor_id      pickup_datetime     dropoff_datetime  passenger_count  \\\n",
       "281338       CMT  2014-01-11 22:47:28  2014-01-11 23:16:48              1.0   \n",
       "158910       CMT  2014-01-10 23:33:57  2014-01-10 23:42:20              1.0   \n",
       "54326        CMT  2014-01-10 08:20:27  2014-01-10 08:57:21              1.0   \n",
       "324542       CMT  2014-01-11 20:33:49  2014-01-11 20:38:19              1.0   \n",
       "208927       CMT  2014-01-11 03:38:35  2014-01-11 03:49:27              2.0   \n",
       "\n",
       "        trip_distance  pickup_longitude  pickup_latitude  dropoff_longitude  \\\n",
       "281338            6.2        -73.968864        40.755829         -73.947762   \n",
       "158910            2.7        -73.979576        40.743950         -73.952164   \n",
       "54326             8.2        -73.933434        40.758213         -74.006035   \n",
       "324542            0.9        -73.971642        40.795433         -73.966255   \n",
       "208927            2.8        -73.988998        40.727135         -73.997444   \n",
       "\n",
       "        dropoff_latitude payment_type  fare_amount  tip_amount  \n",
       "281338         40.815372          CRD         24.0         5.0  \n",
       "158910         40.771236          CRD         10.0         2.0  \n",
       "54326          40.705967          CRD         31.5         5.0  \n",
       "324542         40.804573          CRD          5.5         1.3  \n",
       "208927         40.756290          CRD         11.0         2.4  "
      ]
     },
     "execution_count": 7,
     "metadata": {},
     "output_type": "execute_result"
    }
   ],
   "source": [
    "%%time\n",
    "sample=taxi_data.sample(0.001)\n",
    "sample.head()\n"
   ]
  },
  {
   "cell_type": "markdown",
   "id": "0b3e4475-a0e3-4093-992b-2a9a1e2a3385",
   "metadata": {},
   "source": [
    "Lets explore data"
   ]
  },
  {
   "cell_type": "code",
   "execution_count": 8,
   "id": "882a2baf",
   "metadata": {},
   "outputs": [
    {
     "name": "stdout",
     "output_type": "stream",
     "text": [
      "CPU times: user 10.7 s, sys: 3.59 s, total: 14.3 s\n",
      "Wall time: 4min 48s\n"
     ]
    },
    {
     "data": {
      "text/html": [
       "<div>\n",
       "<style scoped>\n",
       "    .dataframe tbody tr th:only-of-type {\n",
       "        vertical-align: middle;\n",
       "    }\n",
       "\n",
       "    .dataframe tbody tr th {\n",
       "        vertical-align: top;\n",
       "    }\n",
       "\n",
       "    .dataframe thead th {\n",
       "        text-align: right;\n",
       "    }\n",
       "</style>\n",
       "<table border=\"1\" class=\"dataframe\">\n",
       "  <thead>\n",
       "    <tr style=\"text-align: right;\">\n",
       "      <th></th>\n",
       "      <th>vendor_id</th>\n",
       "      <th>pickup_datetime</th>\n",
       "      <th>dropoff_datetime</th>\n",
       "      <th>passenger_count</th>\n",
       "      <th>trip_distance</th>\n",
       "      <th>pickup_longitude</th>\n",
       "      <th>pickup_latitude</th>\n",
       "      <th>dropoff_longitude</th>\n",
       "      <th>dropoff_latitude</th>\n",
       "      <th>payment_type</th>\n",
       "      <th>fare_amount</th>\n",
       "      <th>tip_amount</th>\n",
       "    </tr>\n",
       "  </thead>\n",
       "  <tbody>\n",
       "    <tr>\n",
       "      <th>281338</th>\n",
       "      <td>CMT</td>\n",
       "      <td>2014-01-11 22:47:28</td>\n",
       "      <td>2014-01-11 23:16:48</td>\n",
       "      <td>1.0</td>\n",
       "      <td>6.20</td>\n",
       "      <td>-73.968864</td>\n",
       "      <td>40.755829</td>\n",
       "      <td>-73.947762</td>\n",
       "      <td>40.815372</td>\n",
       "      <td>CRD</td>\n",
       "      <td>24.0</td>\n",
       "      <td>5.0</td>\n",
       "    </tr>\n",
       "    <tr>\n",
       "      <th>158910</th>\n",
       "      <td>CMT</td>\n",
       "      <td>2014-01-10 23:33:57</td>\n",
       "      <td>2014-01-10 23:42:20</td>\n",
       "      <td>1.0</td>\n",
       "      <td>2.70</td>\n",
       "      <td>-73.979576</td>\n",
       "      <td>40.743950</td>\n",
       "      <td>-73.952164</td>\n",
       "      <td>40.771236</td>\n",
       "      <td>CRD</td>\n",
       "      <td>10.0</td>\n",
       "      <td>2.0</td>\n",
       "    </tr>\n",
       "    <tr>\n",
       "      <th>54326</th>\n",
       "      <td>CMT</td>\n",
       "      <td>2014-01-10 08:20:27</td>\n",
       "      <td>2014-01-10 08:57:21</td>\n",
       "      <td>1.0</td>\n",
       "      <td>8.20</td>\n",
       "      <td>-73.933434</td>\n",
       "      <td>40.758213</td>\n",
       "      <td>-74.006035</td>\n",
       "      <td>40.705967</td>\n",
       "      <td>CRD</td>\n",
       "      <td>31.5</td>\n",
       "      <td>5.0</td>\n",
       "    </tr>\n",
       "    <tr>\n",
       "      <th>324542</th>\n",
       "      <td>CMT</td>\n",
       "      <td>2014-01-11 20:33:49</td>\n",
       "      <td>2014-01-11 20:38:19</td>\n",
       "      <td>1.0</td>\n",
       "      <td>0.90</td>\n",
       "      <td>-73.971642</td>\n",
       "      <td>40.795433</td>\n",
       "      <td>-73.966255</td>\n",
       "      <td>40.804573</td>\n",
       "      <td>CRD</td>\n",
       "      <td>5.5</td>\n",
       "      <td>1.3</td>\n",
       "    </tr>\n",
       "    <tr>\n",
       "      <th>208927</th>\n",
       "      <td>CMT</td>\n",
       "      <td>2014-01-11 03:38:35</td>\n",
       "      <td>2014-01-11 03:49:27</td>\n",
       "      <td>2.0</td>\n",
       "      <td>2.80</td>\n",
       "      <td>-73.988998</td>\n",
       "      <td>40.727135</td>\n",
       "      <td>-73.997444</td>\n",
       "      <td>40.756290</td>\n",
       "      <td>CRD</td>\n",
       "      <td>11.0</td>\n",
       "      <td>2.4</td>\n",
       "    </tr>\n",
       "    <tr>\n",
       "      <th>...</th>\n",
       "      <td>...</td>\n",
       "      <td>...</td>\n",
       "      <td>...</td>\n",
       "      <td>...</td>\n",
       "      <td>...</td>\n",
       "      <td>...</td>\n",
       "      <td>...</td>\n",
       "      <td>...</td>\n",
       "      <td>...</td>\n",
       "      <td>...</td>\n",
       "      <td>...</td>\n",
       "      <td>...</td>\n",
       "    </tr>\n",
       "    <tr>\n",
       "      <th>147693</th>\n",
       "      <td>VTS</td>\n",
       "      <td>2014-02-06 23:37:00</td>\n",
       "      <td>2014-02-07 00:07:00</td>\n",
       "      <td>5.0</td>\n",
       "      <td>11.35</td>\n",
       "      <td>-73.994125</td>\n",
       "      <td>40.761444</td>\n",
       "      <td>-73.839493</td>\n",
       "      <td>40.722160</td>\n",
       "      <td>CRD</td>\n",
       "      <td>34.0</td>\n",
       "      <td>0.3</td>\n",
       "    </tr>\n",
       "    <tr>\n",
       "      <th>113593</th>\n",
       "      <td>VTS</td>\n",
       "      <td>2014-02-03 17:16:00</td>\n",
       "      <td>2014-02-03 17:21:00</td>\n",
       "      <td>5.0</td>\n",
       "      <td>1.34</td>\n",
       "      <td>-73.978188</td>\n",
       "      <td>40.745556</td>\n",
       "      <td>-73.961464</td>\n",
       "      <td>40.768742</td>\n",
       "      <td>CRD</td>\n",
       "      <td>6.5</td>\n",
       "      <td>1.5</td>\n",
       "    </tr>\n",
       "    <tr>\n",
       "      <th>59981</th>\n",
       "      <td>VTS</td>\n",
       "      <td>2014-02-03 15:37:00</td>\n",
       "      <td>2014-02-03 15:48:00</td>\n",
       "      <td>1.0</td>\n",
       "      <td>1.34</td>\n",
       "      <td>-73.951370</td>\n",
       "      <td>40.782463</td>\n",
       "      <td>-73.963219</td>\n",
       "      <td>40.769039</td>\n",
       "      <td>CRD</td>\n",
       "      <td>8.5</td>\n",
       "      <td>1.5</td>\n",
       "    </tr>\n",
       "    <tr>\n",
       "      <th>133608</th>\n",
       "      <td>VTS</td>\n",
       "      <td>2014-02-07 00:16:00</td>\n",
       "      <td>2014-02-07 00:22:00</td>\n",
       "      <td>2.0</td>\n",
       "      <td>1.18</td>\n",
       "      <td>-74.004333</td>\n",
       "      <td>40.742294</td>\n",
       "      <td>-73.994301</td>\n",
       "      <td>40.752724</td>\n",
       "      <td>CSH</td>\n",
       "      <td>6.5</td>\n",
       "      <td>0.0</td>\n",
       "    </tr>\n",
       "    <tr>\n",
       "      <th>1342</th>\n",
       "      <td>VTS</td>\n",
       "      <td>2014-02-03 11:42:00</td>\n",
       "      <td>2014-02-03 12:26:00</td>\n",
       "      <td>2.0</td>\n",
       "      <td>17.04</td>\n",
       "      <td>-73.972061</td>\n",
       "      <td>40.756321</td>\n",
       "      <td>-73.783554</td>\n",
       "      <td>40.648678</td>\n",
       "      <td>CSH</td>\n",
       "      <td>52.0</td>\n",
       "      <td>0.0</td>\n",
       "    </tr>\n",
       "  </tbody>\n",
       "</table>\n",
       "<p>15000 rows × 12 columns</p>\n",
       "</div>"
      ],
      "text/plain": [
       "       vendor_id      pickup_datetime     dropoff_datetime  passenger_count  \\\n",
       "281338       CMT  2014-01-11 22:47:28  2014-01-11 23:16:48              1.0   \n",
       "158910       CMT  2014-01-10 23:33:57  2014-01-10 23:42:20              1.0   \n",
       "54326        CMT  2014-01-10 08:20:27  2014-01-10 08:57:21              1.0   \n",
       "324542       CMT  2014-01-11 20:33:49  2014-01-11 20:38:19              1.0   \n",
       "208927       CMT  2014-01-11 03:38:35  2014-01-11 03:49:27              2.0   \n",
       "...          ...                  ...                  ...              ...   \n",
       "147693       VTS  2014-02-06 23:37:00  2014-02-07 00:07:00              5.0   \n",
       "113593       VTS  2014-02-03 17:16:00  2014-02-03 17:21:00              5.0   \n",
       "59981        VTS  2014-02-03 15:37:00  2014-02-03 15:48:00              1.0   \n",
       "133608       VTS  2014-02-07 00:16:00  2014-02-07 00:22:00              2.0   \n",
       "1342         VTS  2014-02-03 11:42:00  2014-02-03 12:26:00              2.0   \n",
       "\n",
       "        trip_distance  pickup_longitude  pickup_latitude  dropoff_longitude  \\\n",
       "281338           6.20        -73.968864        40.755829         -73.947762   \n",
       "158910           2.70        -73.979576        40.743950         -73.952164   \n",
       "54326            8.20        -73.933434        40.758213         -74.006035   \n",
       "324542           0.90        -73.971642        40.795433         -73.966255   \n",
       "208927           2.80        -73.988998        40.727135         -73.997444   \n",
       "...               ...               ...              ...                ...   \n",
       "147693          11.35        -73.994125        40.761444         -73.839493   \n",
       "113593           1.34        -73.978188        40.745556         -73.961464   \n",
       "59981            1.34        -73.951370        40.782463         -73.963219   \n",
       "133608           1.18        -74.004333        40.742294         -73.994301   \n",
       "1342            17.04        -73.972061        40.756321         -73.783554   \n",
       "\n",
       "        dropoff_latitude payment_type  fare_amount  tip_amount  \n",
       "281338         40.815372          CRD         24.0         5.0  \n",
       "158910         40.771236          CRD         10.0         2.0  \n",
       "54326          40.705967          CRD         31.5         5.0  \n",
       "324542         40.804573          CRD          5.5         1.3  \n",
       "208927         40.756290          CRD         11.0         2.4  \n",
       "...                  ...          ...          ...         ...  \n",
       "147693         40.722160          CRD         34.0         0.3  \n",
       "113593         40.768742          CRD          6.5         1.5  \n",
       "59981          40.769039          CRD          8.5         1.5  \n",
       "133608         40.752724          CSH          6.5         0.0  \n",
       "1342           40.648678          CSH         52.0         0.0  \n",
       "\n",
       "[15000 rows x 12 columns]"
      ]
     },
     "execution_count": 8,
     "metadata": {},
     "output_type": "execute_result"
    }
   ],
   "source": [
    "%%time\n",
    "sample.compute()"
   ]
  },
  {
   "cell_type": "markdown",
   "id": "f5fc3d8d-5c5b-45d5-9b3e-ceeb50f6a961",
   "metadata": {},
   "source": [
    "#### checking number of unique values"
   ]
  },
  {
   "cell_type": "code",
   "execution_count": 9,
   "id": "0aff7c77",
   "metadata": {},
   "outputs": [
    {
     "ename": "CancelledError",
     "evalue": "('sample-3b0e482293143f1ce8851855de5e32e6', 18)",
     "output_type": "error",
     "traceback": [
      "\u001b[0;31m---------------------------------------------------------------------------\u001b[0m",
      "\u001b[0;31mCancelledError\u001b[0m                            Traceback (most recent call last)",
      "\u001b[0;32m/tmp/ipykernel_1075/3570122273.py\u001b[0m in \u001b[0;36m<module>\u001b[0;34m\u001b[0m\n\u001b[0;32m----> 1\u001b[0;31m \u001b[0msample\u001b[0m\u001b[0;34m.\u001b[0m\u001b[0mcompute\u001b[0m\u001b[0;34m(\u001b[0m\u001b[0;34m)\u001b[0m\u001b[0;34m.\u001b[0m\u001b[0mnunique\u001b[0m\u001b[0;34m(\u001b[0m\u001b[0;34m)\u001b[0m\u001b[0;34m\u001b[0m\u001b[0;34m\u001b[0m\u001b[0m\n\u001b[0m",
      "\u001b[0;32m~/miniconda3/lib/python3.9/site-packages/dask/base.py\u001b[0m in \u001b[0;36mcompute\u001b[0;34m(self, **kwargs)\u001b[0m\n\u001b[1;32m    286\u001b[0m         \u001b[0mdask\u001b[0m\u001b[0;34m.\u001b[0m\u001b[0mbase\u001b[0m\u001b[0;34m.\u001b[0m\u001b[0mcompute\u001b[0m\u001b[0;34m\u001b[0m\u001b[0;34m\u001b[0m\u001b[0m\n\u001b[1;32m    287\u001b[0m         \"\"\"\n\u001b[0;32m--> 288\u001b[0;31m         \u001b[0;34m(\u001b[0m\u001b[0mresult\u001b[0m\u001b[0;34m,\u001b[0m\u001b[0;34m)\u001b[0m \u001b[0;34m=\u001b[0m \u001b[0mcompute\u001b[0m\u001b[0;34m(\u001b[0m\u001b[0mself\u001b[0m\u001b[0;34m,\u001b[0m \u001b[0mtraverse\u001b[0m\u001b[0;34m=\u001b[0m\u001b[0;32mFalse\u001b[0m\u001b[0;34m,\u001b[0m \u001b[0;34m**\u001b[0m\u001b[0mkwargs\u001b[0m\u001b[0;34m)\u001b[0m\u001b[0;34m\u001b[0m\u001b[0;34m\u001b[0m\u001b[0m\n\u001b[0m\u001b[1;32m    289\u001b[0m         \u001b[0;32mreturn\u001b[0m \u001b[0mresult\u001b[0m\u001b[0;34m\u001b[0m\u001b[0;34m\u001b[0m\u001b[0m\n\u001b[1;32m    290\u001b[0m \u001b[0;34m\u001b[0m\u001b[0m\n",
      "\u001b[0;32m~/miniconda3/lib/python3.9/site-packages/dask/base.py\u001b[0m in \u001b[0;36mcompute\u001b[0;34m(*args, **kwargs)\u001b[0m\n\u001b[1;32m    568\u001b[0m         \u001b[0mpostcomputes\u001b[0m\u001b[0;34m.\u001b[0m\u001b[0mappend\u001b[0m\u001b[0;34m(\u001b[0m\u001b[0mx\u001b[0m\u001b[0;34m.\u001b[0m\u001b[0m__dask_postcompute__\u001b[0m\u001b[0;34m(\u001b[0m\u001b[0;34m)\u001b[0m\u001b[0;34m)\u001b[0m\u001b[0;34m\u001b[0m\u001b[0;34m\u001b[0m\u001b[0m\n\u001b[1;32m    569\u001b[0m \u001b[0;34m\u001b[0m\u001b[0m\n\u001b[0;32m--> 570\u001b[0;31m     \u001b[0mresults\u001b[0m \u001b[0;34m=\u001b[0m \u001b[0mschedule\u001b[0m\u001b[0;34m(\u001b[0m\u001b[0mdsk\u001b[0m\u001b[0;34m,\u001b[0m \u001b[0mkeys\u001b[0m\u001b[0;34m,\u001b[0m \u001b[0;34m**\u001b[0m\u001b[0mkwargs\u001b[0m\u001b[0;34m)\u001b[0m\u001b[0;34m\u001b[0m\u001b[0;34m\u001b[0m\u001b[0m\n\u001b[0m\u001b[1;32m    571\u001b[0m     \u001b[0;32mreturn\u001b[0m \u001b[0mrepack\u001b[0m\u001b[0;34m(\u001b[0m\u001b[0;34m[\u001b[0m\u001b[0mf\u001b[0m\u001b[0;34m(\u001b[0m\u001b[0mr\u001b[0m\u001b[0;34m,\u001b[0m \u001b[0;34m*\u001b[0m\u001b[0ma\u001b[0m\u001b[0;34m)\u001b[0m \u001b[0;32mfor\u001b[0m \u001b[0mr\u001b[0m\u001b[0;34m,\u001b[0m \u001b[0;34m(\u001b[0m\u001b[0mf\u001b[0m\u001b[0;34m,\u001b[0m \u001b[0ma\u001b[0m\u001b[0;34m)\u001b[0m \u001b[0;32min\u001b[0m \u001b[0mzip\u001b[0m\u001b[0;34m(\u001b[0m\u001b[0mresults\u001b[0m\u001b[0;34m,\u001b[0m \u001b[0mpostcomputes\u001b[0m\u001b[0;34m)\u001b[0m\u001b[0;34m]\u001b[0m\u001b[0;34m)\u001b[0m\u001b[0;34m\u001b[0m\u001b[0;34m\u001b[0m\u001b[0m\n\u001b[1;32m    572\u001b[0m \u001b[0;34m\u001b[0m\u001b[0m\n",
      "\u001b[0;32m~/miniconda3/lib/python3.9/site-packages/distributed/client.py\u001b[0m in \u001b[0;36mget\u001b[0;34m(self, dsk, keys, workers, allow_other_workers, resources, sync, asynchronous, direct, retries, priority, fifo_timeout, actors, **kwargs)\u001b[0m\n\u001b[1;32m   2720\u001b[0m                     \u001b[0mshould_rejoin\u001b[0m \u001b[0;34m=\u001b[0m \u001b[0;32mFalse\u001b[0m\u001b[0;34m\u001b[0m\u001b[0;34m\u001b[0m\u001b[0m\n\u001b[1;32m   2721\u001b[0m             \u001b[0;32mtry\u001b[0m\u001b[0;34m:\u001b[0m\u001b[0;34m\u001b[0m\u001b[0;34m\u001b[0m\u001b[0m\n\u001b[0;32m-> 2722\u001b[0;31m                 \u001b[0mresults\u001b[0m \u001b[0;34m=\u001b[0m \u001b[0mself\u001b[0m\u001b[0;34m.\u001b[0m\u001b[0mgather\u001b[0m\u001b[0;34m(\u001b[0m\u001b[0mpacked\u001b[0m\u001b[0;34m,\u001b[0m \u001b[0masynchronous\u001b[0m\u001b[0;34m=\u001b[0m\u001b[0masynchronous\u001b[0m\u001b[0;34m,\u001b[0m \u001b[0mdirect\u001b[0m\u001b[0;34m=\u001b[0m\u001b[0mdirect\u001b[0m\u001b[0;34m)\u001b[0m\u001b[0;34m\u001b[0m\u001b[0;34m\u001b[0m\u001b[0m\n\u001b[0m\u001b[1;32m   2723\u001b[0m             \u001b[0;32mfinally\u001b[0m\u001b[0;34m:\u001b[0m\u001b[0;34m\u001b[0m\u001b[0;34m\u001b[0m\u001b[0m\n\u001b[1;32m   2724\u001b[0m                 \u001b[0;32mfor\u001b[0m \u001b[0mf\u001b[0m \u001b[0;32min\u001b[0m \u001b[0mfutures\u001b[0m\u001b[0;34m.\u001b[0m\u001b[0mvalues\u001b[0m\u001b[0;34m(\u001b[0m\u001b[0;34m)\u001b[0m\u001b[0;34m:\u001b[0m\u001b[0;34m\u001b[0m\u001b[0;34m\u001b[0m\u001b[0m\n",
      "\u001b[0;32m~/miniconda3/lib/python3.9/site-packages/distributed/client.py\u001b[0m in \u001b[0;36mgather\u001b[0;34m(self, futures, errors, direct, asynchronous)\u001b[0m\n\u001b[1;32m   1975\u001b[0m             \u001b[0;32melse\u001b[0m\u001b[0;34m:\u001b[0m\u001b[0;34m\u001b[0m\u001b[0;34m\u001b[0m\u001b[0m\n\u001b[1;32m   1976\u001b[0m                 \u001b[0mlocal_worker\u001b[0m \u001b[0;34m=\u001b[0m \u001b[0;32mNone\u001b[0m\u001b[0;34m\u001b[0m\u001b[0;34m\u001b[0m\u001b[0m\n\u001b[0;32m-> 1977\u001b[0;31m             return self.sync(\n\u001b[0m\u001b[1;32m   1978\u001b[0m                 \u001b[0mself\u001b[0m\u001b[0;34m.\u001b[0m\u001b[0m_gather\u001b[0m\u001b[0;34m,\u001b[0m\u001b[0;34m\u001b[0m\u001b[0;34m\u001b[0m\u001b[0m\n\u001b[1;32m   1979\u001b[0m                 \u001b[0mfutures\u001b[0m\u001b[0;34m,\u001b[0m\u001b[0;34m\u001b[0m\u001b[0;34m\u001b[0m\u001b[0m\n",
      "\u001b[0;32m~/miniconda3/lib/python3.9/site-packages/distributed/client.py\u001b[0m in \u001b[0;36msync\u001b[0;34m(self, func, asynchronous, callback_timeout, *args, **kwargs)\u001b[0m\n\u001b[1;32m    863\u001b[0m             \u001b[0;32mreturn\u001b[0m \u001b[0mfuture\u001b[0m\u001b[0;34m\u001b[0m\u001b[0;34m\u001b[0m\u001b[0m\n\u001b[1;32m    864\u001b[0m         \u001b[0;32melse\u001b[0m\u001b[0;34m:\u001b[0m\u001b[0;34m\u001b[0m\u001b[0;34m\u001b[0m\u001b[0m\n\u001b[0;32m--> 865\u001b[0;31m             return sync(\n\u001b[0m\u001b[1;32m    866\u001b[0m                 \u001b[0mself\u001b[0m\u001b[0;34m.\u001b[0m\u001b[0mloop\u001b[0m\u001b[0;34m,\u001b[0m \u001b[0mfunc\u001b[0m\u001b[0;34m,\u001b[0m \u001b[0;34m*\u001b[0m\u001b[0margs\u001b[0m\u001b[0;34m,\u001b[0m \u001b[0mcallback_timeout\u001b[0m\u001b[0;34m=\u001b[0m\u001b[0mcallback_timeout\u001b[0m\u001b[0;34m,\u001b[0m \u001b[0;34m**\u001b[0m\u001b[0mkwargs\u001b[0m\u001b[0;34m\u001b[0m\u001b[0;34m\u001b[0m\u001b[0m\n\u001b[1;32m    867\u001b[0m             )\n",
      "\u001b[0;32m~/miniconda3/lib/python3.9/site-packages/distributed/utils.py\u001b[0m in \u001b[0;36msync\u001b[0;34m(loop, func, callback_timeout, *args, **kwargs)\u001b[0m\n\u001b[1;32m    325\u001b[0m     \u001b[0;32mif\u001b[0m \u001b[0merror\u001b[0m\u001b[0;34m[\u001b[0m\u001b[0;36m0\u001b[0m\u001b[0;34m]\u001b[0m\u001b[0;34m:\u001b[0m\u001b[0;34m\u001b[0m\u001b[0;34m\u001b[0m\u001b[0m\n\u001b[1;32m    326\u001b[0m         \u001b[0mtyp\u001b[0m\u001b[0;34m,\u001b[0m \u001b[0mexc\u001b[0m\u001b[0;34m,\u001b[0m \u001b[0mtb\u001b[0m \u001b[0;34m=\u001b[0m \u001b[0merror\u001b[0m\u001b[0;34m[\u001b[0m\u001b[0;36m0\u001b[0m\u001b[0;34m]\u001b[0m\u001b[0;34m\u001b[0m\u001b[0;34m\u001b[0m\u001b[0m\n\u001b[0;32m--> 327\u001b[0;31m         \u001b[0;32mraise\u001b[0m \u001b[0mexc\u001b[0m\u001b[0;34m.\u001b[0m\u001b[0mwith_traceback\u001b[0m\u001b[0;34m(\u001b[0m\u001b[0mtb\u001b[0m\u001b[0;34m)\u001b[0m\u001b[0;34m\u001b[0m\u001b[0;34m\u001b[0m\u001b[0m\n\u001b[0m\u001b[1;32m    328\u001b[0m     \u001b[0;32melse\u001b[0m\u001b[0;34m:\u001b[0m\u001b[0;34m\u001b[0m\u001b[0;34m\u001b[0m\u001b[0m\n\u001b[1;32m    329\u001b[0m         \u001b[0;32mreturn\u001b[0m \u001b[0mresult\u001b[0m\u001b[0;34m[\u001b[0m\u001b[0;36m0\u001b[0m\u001b[0;34m]\u001b[0m\u001b[0;34m\u001b[0m\u001b[0;34m\u001b[0m\u001b[0m\n",
      "\u001b[0;32m~/miniconda3/lib/python3.9/site-packages/distributed/utils.py\u001b[0m in \u001b[0;36mf\u001b[0;34m()\u001b[0m\n\u001b[1;32m    308\u001b[0m             \u001b[0;32mif\u001b[0m \u001b[0mcallback_timeout\u001b[0m \u001b[0;32mis\u001b[0m \u001b[0;32mnot\u001b[0m \u001b[0;32mNone\u001b[0m\u001b[0;34m:\u001b[0m\u001b[0;34m\u001b[0m\u001b[0;34m\u001b[0m\u001b[0m\n\u001b[1;32m    309\u001b[0m                 \u001b[0mfuture\u001b[0m \u001b[0;34m=\u001b[0m \u001b[0masyncio\u001b[0m\u001b[0;34m.\u001b[0m\u001b[0mwait_for\u001b[0m\u001b[0;34m(\u001b[0m\u001b[0mfuture\u001b[0m\u001b[0;34m,\u001b[0m \u001b[0mcallback_timeout\u001b[0m\u001b[0;34m)\u001b[0m\u001b[0;34m\u001b[0m\u001b[0;34m\u001b[0m\u001b[0m\n\u001b[0;32m--> 310\u001b[0;31m             \u001b[0mresult\u001b[0m\u001b[0;34m[\u001b[0m\u001b[0;36m0\u001b[0m\u001b[0;34m]\u001b[0m \u001b[0;34m=\u001b[0m \u001b[0;32myield\u001b[0m \u001b[0mfuture\u001b[0m\u001b[0;34m\u001b[0m\u001b[0;34m\u001b[0m\u001b[0m\n\u001b[0m\u001b[1;32m    311\u001b[0m         \u001b[0;32mexcept\u001b[0m \u001b[0mException\u001b[0m\u001b[0;34m:\u001b[0m\u001b[0;34m\u001b[0m\u001b[0;34m\u001b[0m\u001b[0m\n\u001b[1;32m    312\u001b[0m             \u001b[0merror\u001b[0m\u001b[0;34m[\u001b[0m\u001b[0;36m0\u001b[0m\u001b[0;34m]\u001b[0m \u001b[0;34m=\u001b[0m \u001b[0msys\u001b[0m\u001b[0;34m.\u001b[0m\u001b[0mexc_info\u001b[0m\u001b[0;34m(\u001b[0m\u001b[0;34m)\u001b[0m\u001b[0;34m\u001b[0m\u001b[0;34m\u001b[0m\u001b[0m\n",
      "\u001b[0;32m~/miniconda3/lib/python3.9/site-packages/tornado/gen.py\u001b[0m in \u001b[0;36mrun\u001b[0;34m(self)\u001b[0m\n\u001b[1;32m    760\u001b[0m \u001b[0;34m\u001b[0m\u001b[0m\n\u001b[1;32m    761\u001b[0m                     \u001b[0;32mtry\u001b[0m\u001b[0;34m:\u001b[0m\u001b[0;34m\u001b[0m\u001b[0;34m\u001b[0m\u001b[0m\n\u001b[0;32m--> 762\u001b[0;31m                         \u001b[0mvalue\u001b[0m \u001b[0;34m=\u001b[0m \u001b[0mfuture\u001b[0m\u001b[0;34m.\u001b[0m\u001b[0mresult\u001b[0m\u001b[0;34m(\u001b[0m\u001b[0;34m)\u001b[0m\u001b[0;34m\u001b[0m\u001b[0;34m\u001b[0m\u001b[0m\n\u001b[0m\u001b[1;32m    763\u001b[0m                     \u001b[0;32mexcept\u001b[0m \u001b[0mException\u001b[0m\u001b[0;34m:\u001b[0m\u001b[0;34m\u001b[0m\u001b[0;34m\u001b[0m\u001b[0m\n\u001b[1;32m    764\u001b[0m                         \u001b[0mexc_info\u001b[0m \u001b[0;34m=\u001b[0m \u001b[0msys\u001b[0m\u001b[0;34m.\u001b[0m\u001b[0mexc_info\u001b[0m\u001b[0;34m(\u001b[0m\u001b[0;34m)\u001b[0m\u001b[0;34m\u001b[0m\u001b[0;34m\u001b[0m\u001b[0m\n",
      "\u001b[0;32m~/miniconda3/lib/python3.9/site-packages/distributed/client.py\u001b[0m in \u001b[0;36m_gather\u001b[0;34m(self, futures, errors, direct, local_worker)\u001b[0m\n\u001b[1;32m   1841\u001b[0m                         \u001b[0;32melse\u001b[0m\u001b[0;34m:\u001b[0m\u001b[0;34m\u001b[0m\u001b[0;34m\u001b[0m\u001b[0m\n\u001b[1;32m   1842\u001b[0m                             \u001b[0;32mraise\u001b[0m \u001b[0mexception\u001b[0m\u001b[0;34m.\u001b[0m\u001b[0mwith_traceback\u001b[0m\u001b[0;34m(\u001b[0m\u001b[0mtraceback\u001b[0m\u001b[0;34m)\u001b[0m\u001b[0;34m\u001b[0m\u001b[0;34m\u001b[0m\u001b[0m\n\u001b[0;32m-> 1843\u001b[0;31m                         \u001b[0;32mraise\u001b[0m \u001b[0mexc\u001b[0m\u001b[0;34m\u001b[0m\u001b[0;34m\u001b[0m\u001b[0m\n\u001b[0m\u001b[1;32m   1844\u001b[0m                     \u001b[0;32mif\u001b[0m \u001b[0merrors\u001b[0m \u001b[0;34m==\u001b[0m \u001b[0;34m\"skip\"\u001b[0m\u001b[0;34m:\u001b[0m\u001b[0;34m\u001b[0m\u001b[0;34m\u001b[0m\u001b[0m\n\u001b[1;32m   1845\u001b[0m                         \u001b[0mbad_keys\u001b[0m\u001b[0;34m.\u001b[0m\u001b[0madd\u001b[0m\u001b[0;34m(\u001b[0m\u001b[0mkey\u001b[0m\u001b[0;34m)\u001b[0m\u001b[0;34m\u001b[0m\u001b[0;34m\u001b[0m\u001b[0m\n",
      "\u001b[0;31mCancelledError\u001b[0m: ('sample-3b0e482293143f1ce8851855de5e32e6', 18)"
     ]
    }
   ],
   "source": [
    "sample.compute().nunique()"
   ]
  },
  {
   "cell_type": "markdown",
   "id": "8d56dd82-cf67-48b1-87b6-aa34b9c48150",
   "metadata": {},
   "source": [
    "#### describing data"
   ]
  },
  {
   "cell_type": "code",
   "execution_count": null,
   "id": "86ac4adf",
   "metadata": {},
   "outputs": [],
   "source": [
    "sample.compute().describe()"
   ]
  },
  {
   "cell_type": "markdown",
   "id": "45c30f25-0f05-4bb3-a89d-d5d9a247ca44",
   "metadata": {},
   "source": [
    "- Passenger count has a minimum of 0 which means either it is an error entered or the drivers deliberately entered 0 to complete a target number of rides."
   ]
  },
  {
   "cell_type": "markdown",
   "id": "4e0be5df",
   "metadata": {
    "tags": []
   },
   "source": [
    "### Data Cleaning and persisting to memory"
   ]
  },
  {
   "cell_type": "markdown",
   "id": "d16a8346",
   "metadata": {},
   "source": [
    "Lets see if there is any null values in our dataset"
   ]
  },
  {
   "cell_type": "code",
   "execution_count": null,
   "id": "2943e2c7",
   "metadata": {},
   "outputs": [],
   "source": [
    "%%time\n",
    "# remove rows with null values\n",
    "sample.isnull().sum().compute()"
   ]
  },
  {
   "cell_type": "code",
   "execution_count": null,
   "id": "5da1e1e3",
   "metadata": {},
   "outputs": [],
   "source": [
    "#sample = sample.drop(['store_and_fwd_flag','mta_tax'],axis=1)"
   ]
  },
  {
   "cell_type": "code",
   "execution_count": null,
   "id": "484edade",
   "metadata": {},
   "outputs": [],
   "source": []
  },
  {
   "cell_type": "markdown",
   "id": "66c36630",
   "metadata": {},
   "source": [
    "#### Lets convert pickup and dropoff times to datetime format"
   ]
  },
  {
   "cell_type": "code",
   "execution_count": null,
   "id": "08db5db5",
   "metadata": {},
   "outputs": [],
   "source": [
    "%%time\n",
    "# converting pickup and dropoff times to datetime format\n",
    "sample[\"pickup_datetime\"] =dd.to_datetime(sample[\"pickup_datetime\"],format='%Y/%m/%d %H:%M')\n",
    "\n",
    "sample[\"dropoff_datetime\"] =dd.to_datetime(sample[\"dropoff_datetime\"],format='%Y/%m/%d %H:%M')"
   ]
  },
  {
   "cell_type": "markdown",
   "id": "856f69cb",
   "metadata": {},
   "source": [
    "#### Creating 3 new columns called Duration, Average_Speed and Price_Per_Mile"
   ]
  },
  {
   "cell_type": "code",
   "execution_count": null,
   "id": "7fc7db02",
   "metadata": {},
   "outputs": [],
   "source": [
    "sample['duration'] = sample['dropoff_datetime']-sample['pickup_datetime']"
   ]
  },
  {
   "cell_type": "code",
   "execution_count": null,
   "id": "b4ef78bf",
   "metadata": {},
   "outputs": [],
   "source": [
    "def get_seconds(a):\n",
    "    return a.seconds\n",
    "    "
   ]
  },
  {
   "cell_type": "code",
   "execution_count": null,
   "id": "84057acc",
   "metadata": {},
   "outputs": [],
   "source": [
    "sample['duration'] = sample['duration'].apply(get_seconds)"
   ]
  },
  {
   "cell_type": "code",
   "execution_count": null,
   "id": "f6457cf7",
   "metadata": {},
   "outputs": [],
   "source": [
    "#Creating a speed feature (MPH)\n",
    "sample['average_speed'] = (sample['trip_distance']/(sample['duration']/3600)).round(3)"
   ]
  },
  {
   "cell_type": "code",
   "execution_count": null,
   "id": "b280cd01",
   "metadata": {},
   "outputs": [],
   "source": [
    "sample['price_per_mile']= (sample['trip_distance']/sample['fare_amount']).round(2)"
   ]
  },
  {
   "cell_type": "markdown",
   "id": "7230c5d1-a092-4074-bc41-d5e641cc7820",
   "metadata": {},
   "source": [
    "#### checking null values after creating new columns"
   ]
  },
  {
   "cell_type": "code",
   "execution_count": null,
   "id": "904aa40d",
   "metadata": {},
   "outputs": [],
   "source": [
    "sample.isnull().sum().compute()"
   ]
  },
  {
   "cell_type": "markdown",
   "id": "fb329a3b-2b49-4c07-8b30-bc6f6a786b52",
   "metadata": {},
   "source": [
    "There is 31 null values in average_speed columns,lets check index of null values"
   ]
  },
  {
   "cell_type": "code",
   "execution_count": null,
   "id": "33cbee31",
   "metadata": {},
   "outputs": [],
   "source": [
    "sample.loc[sample['average_speed'].isnull()].index.compute()"
   ]
  },
  {
   "cell_type": "markdown",
   "id": "4c6f9d08-64d2-4d42-9312-c9e31d08948d",
   "metadata": {},
   "source": [
    "Assign null values to variable "
   ]
  },
  {
   "cell_type": "code",
   "execution_count": null,
   "id": "f0f48847",
   "metadata": {},
   "outputs": [],
   "source": [
    "cancelled_trips = sample[sample['average_speed'].isnull()].compute()"
   ]
  },
  {
   "cell_type": "code",
   "execution_count": null,
   "id": "461bfaaf",
   "metadata": {},
   "outputs": [],
   "source": [
    "sample = sample.dropna(subset=['average_speed'])"
   ]
  },
  {
   "cell_type": "code",
   "execution_count": null,
   "id": "587be256",
   "metadata": {},
   "outputs": [],
   "source": [
    "sample = sample[sample['average_speed'] != sample['average_speed'].max()]"
   ]
  },
  {
   "cell_type": "code",
   "execution_count": null,
   "id": "5cedd75d",
   "metadata": {},
   "outputs": [],
   "source": [
    "sample['average_speed'].compute().describe()"
   ]
  },
  {
   "cell_type": "code",
   "execution_count": null,
   "id": "f858bd69",
   "metadata": {},
   "outputs": [],
   "source": [
    "sample['average_speed'].compute().value_counts()"
   ]
  },
  {
   "cell_type": "code",
   "execution_count": null,
   "id": "1330e26c",
   "metadata": {},
   "outputs": [],
   "source": [
    "sample[sample['average_speed'] == sample['average_speed'].max()].compute()"
   ]
  },
  {
   "cell_type": "code",
   "execution_count": null,
   "id": "e2430073",
   "metadata": {},
   "outputs": [],
   "source": [
    "sample.pickup_datetime.compute()"
   ]
  },
  {
   "cell_type": "code",
   "execution_count": null,
   "id": "156a7b4b",
   "metadata": {},
   "outputs": [],
   "source": [
    "sample.dropoff_datetime.compute()"
   ]
  },
  {
   "cell_type": "markdown",
   "id": "e7605069",
   "metadata": {},
   "source": [
    "#### persisting to memory all cleaned dataframe  further analysis"
   ]
  },
  {
   "cell_type": "code",
   "execution_count": null,
   "id": "bf15c23d",
   "metadata": {},
   "outputs": [],
   "source": [
    "%%time\n",
    "sample= sample.persist()"
   ]
  },
  {
   "cell_type": "code",
   "execution_count": null,
   "id": "bdfb346a",
   "metadata": {},
   "outputs": [],
   "source": [
    "sample.compute()"
   ]
  },
  {
   "cell_type": "markdown",
   "id": "a73bb34c",
   "metadata": {},
   "source": [
    "### Univariate Analysis\n",
    "\n",
    "The univariate analysis involves studying patterns of all variables individually."
   ]
  },
  {
   "cell_type": "markdown",
   "id": "676b8a1b",
   "metadata": {},
   "source": [
    "#### Trips for day"
   ]
  },
  {
   "cell_type": "markdown",
   "id": "7843b795",
   "metadata": {},
   "source": [
    " pickup_day and dropoff_day which will contain the name of the day on which the ride was taken."
   ]
  },
  {
   "cell_type": "code",
   "execution_count": null,
   "id": "3511afc6",
   "metadata": {},
   "outputs": [],
   "source": [
    "sample['pickup_day']=sample['pickup_datetime'].dt.day_name()\n",
    "sample['dropoff_day']=sample['dropoff_datetime'].dt.day_name()"
   ]
  },
  {
   "cell_type": "code",
   "execution_count": null,
   "id": "3c206b68",
   "metadata": {},
   "outputs": [],
   "source": [
    "sample['pickup_day'].describe(include=object).compute()"
   ]
  },
  {
   "cell_type": "code",
   "execution_count": null,
   "id": "8ccda12c",
   "metadata": {},
   "outputs": [],
   "source": [
    "figure,(ax1,ax2)=plt.subplots(ncols=2,figsize=(20,5))\n",
    "ax1.set_title('Pickup Days')\n",
    "ax=sns.countplot(x=\"pickup_day\",data=sample.compute(),ax=ax1)\n",
    "\n",
    "ax2.set_title('Dropoff Days')\n",
    "ax=sns.countplot(x=\"dropoff_day\",data=sample.compute(),ax=ax2)"
   ]
  },
  {
   "cell_type": "markdown",
   "id": "7e174049",
   "metadata": {
    "jp-MarkdownHeadingCollapsed": true,
    "tags": []
   },
   "source": [
    " We see thursday is the busiest day"
   ]
  },
  {
   "cell_type": "code",
   "execution_count": null,
   "id": "dad3debe",
   "metadata": {},
   "outputs": [],
   "source": [
    "sample.groupby('pickup_day').mean().compute()[['passenger_count','fare_amount','tip_amount','duration']].style.highlight_max(color='lightblue').highlight_min(color='pink')"
   ]
  },
  {
   "cell_type": "markdown",
   "id": "ff8baa73",
   "metadata": {},
   "source": [
    "#### Pickup Day Fare Amount"
   ]
  },
  {
   "cell_type": "code",
   "execution_count": null,
   "id": "7e140012",
   "metadata": {},
   "outputs": [],
   "source": [
    "##fare_amount per day\n",
    "p=sns.lineplot(x='pickup_day',y='fare_amount',data=sample)\n",
    "p.set(title=\"Fare amount frequency for piyckup day\");"
   ]
  },
  {
   "cell_type": "markdown",
   "id": "b1e84899",
   "metadata": {},
   "source": [
    "As we see Fridays's are highest paid rides and sunday's are low fair rates."
   ]
  },
  {
   "cell_type": "markdown",
   "id": "b2654894",
   "metadata": {},
   "source": [
    "##### pickup_hour and dropoff_hour with an hour of the day in the 24-hour format."
   ]
  },
  {
   "cell_type": "code",
   "execution_count": null,
   "id": "b931988c",
   "metadata": {},
   "outputs": [],
   "source": [
    "sample['pickup_hour']=sample['pickup_datetime'].dt.hour\n",
    "sample['dropoff_hour']=sample['dropoff_datetime'].dt.hour"
   ]
  },
  {
   "cell_type": "code",
   "execution_count": null,
   "id": "104db61d",
   "metadata": {},
   "outputs": [],
   "source": [
    "figure,(ax1,ax2)=plt.subplots(ncols=2,figsize=(20,5))\n",
    "ax1.set_title('Pickup hour')\n",
    "ax=sns.countplot(x=\"pickup_hour\",data=sample.compute(),ax=ax1)\n",
    "\n",
    "ax2.set_title('dropoff hour')\n",
    "ax=sns.countplot(x=\"dropoff_hour\",data=sample.compute(),ax=ax2)"
   ]
  },
  {
   "cell_type": "markdown",
   "id": "a672154d",
   "metadata": {},
   "source": [
    "We see the busiest hours are 6:00 pm to 7:00 pm and that makes sense as this is the time when people return from their offices."
   ]
  },
  {
   "cell_type": "code",
   "execution_count": null,
   "id": "46910d85",
   "metadata": {},
   "outputs": [],
   "source": [
    "sample.groupby('pickup_hour').mean().compute()[['passenger_count','fare_amount','tip_amount','duration']].style.highlight_max(color='lightblue').highlight_min(color='pink')"
   ]
  },
  {
   "cell_type": "markdown",
   "id": "37ee1423",
   "metadata": {},
   "source": [
    "#### Fare amount for hour"
   ]
  },
  {
   "cell_type": "code",
   "execution_count": null,
   "id": "9d6a7cef",
   "metadata": {},
   "outputs": [],
   "source": [
    "##fare_amount per hour\n",
    "p=sns.lineplot(x='pickup_hour',y='fare_amount',data=sample)\n",
    "p.set(title=\"Fare amount frequency for piyckup hour\")"
   ]
  },
  {
   "cell_type": "markdown",
   "id": "e4982414",
   "metadata": {},
   "source": [
    "As we see 5pm   the highest fair amount paid by passengers."
   ]
  },
  {
   "cell_type": "markdown",
   "id": "5493d961",
   "metadata": {},
   "source": [
    "#### pickup_month and dropoff_month with month number with January=1 and December=12."
   ]
  },
  {
   "cell_type": "code",
   "execution_count": null,
   "id": "dda1353a",
   "metadata": {},
   "outputs": [],
   "source": [
    "sample['pickup_month']=sample['pickup_datetime'].dt.month\n",
    "sample['dropoff_month']=sample['dropoff_datetime'].dt.month"
   ]
  },
  {
   "cell_type": "code",
   "execution_count": null,
   "id": "2a9f6c39",
   "metadata": {},
   "outputs": [],
   "source": [
    "figure,(ax1,ax2)=plt.subplots(ncols=2,figsize=(20,5))\n",
    "ax1.set_title('Pickup Month')\n",
    "ax=sns.countplot(x=\"pickup_month\",data=sample.compute(),ax=ax1)\n",
    "\n",
    "ax2.set_title('Dropoff Month')\n",
    "ax=sns.countplot(x=\"dropoff_month\",data=sample.compute(),ax=ax2)\n",
    "\n"
   ]
  },
  {
   "cell_type": "markdown",
   "id": "b6c701f2",
   "metadata": {},
   "source": [
    "In January month  most rides taken "
   ]
  },
  {
   "cell_type": "markdown",
   "id": "cbedbd2f",
   "metadata": {},
   "source": [
    "#### pickup_month fare amount"
   ]
  },
  {
   "cell_type": "code",
   "execution_count": null,
   "id": "6ca7b4f9",
   "metadata": {},
   "outputs": [],
   "source": [
    "##fare_amount by month\n",
    "p=sns.lineplot(x='pickup_month',y='fare_amount',data=sample)\n",
    "p.set(title=\"Fare amount frequency for piyckup month\")"
   ]
  },
  {
   "cell_type": "markdown",
   "id": "bc9dd77b",
   "metadata": {},
   "source": [
    "#### Time of day"
   ]
  },
  {
   "cell_type": "markdown",
   "id": "c0944fd3",
   "metadata": {},
   "source": [
    "I have defined a function that lets us determine what time of the day the ride was taken. I have created 4 time zones ‘Morning’ (from 6:00 am to 11:59 pm), ‘Afternoon’ (from 12 noon to 3:59 pm), ‘Evening’ (from 4:00 pm to 9:59 pm), and ‘Late Night’ (from 10:00 pm to 5:59 am)"
   ]
  },
  {
   "cell_type": "code",
   "execution_count": null,
   "id": "890476f0",
   "metadata": {},
   "outputs": [],
   "source": [
    "def time_of_day(x):\n",
    "    if x in range(6,12):\n",
    "        return 'Morning'\n",
    "    elif x in range(12,16):\n",
    "        return 'Afternoon'\n",
    "    elif x in range(16,22):\n",
    "        return 'Evening'\n",
    "    else:\n",
    "        return 'Late night'"
   ]
  },
  {
   "cell_type": "code",
   "execution_count": null,
   "id": "5ec5aecd",
   "metadata": {},
   "outputs": [],
   "source": [
    "sample['pickup_timeofday']=sample['pickup_hour'].apply(time_of_day)\n",
    "sample['dropoff_timeofday']=sample['dropoff_hour'].apply(time_of_day)"
   ]
  },
  {
   "cell_type": "code",
   "execution_count": null,
   "id": "e1fb19e2",
   "metadata": {},
   "outputs": [],
   "source": [
    "figure,(ax3,ax4)=plt.subplots(ncols=2,figsize=(20,5))\n",
    "ax3.set_title('Pickup Time of Day')\n",
    "ax=sns.countplot(x=\"pickup_timeofday\",data=sample.compute(),ax=ax3)\n",
    "ax4.set_title('Dropoff Time of Day')\n",
    "ax=sns.countplot(x=\"dropoff_timeofday\",data=sample.compute(),ax=ax4)"
   ]
  },
  {
   "cell_type": "markdown",
   "id": "17b61c8f",
   "metadata": {},
   "source": [
    "As we saw above, evenings are the busiest"
   ]
  },
  {
   "cell_type": "code",
   "execution_count": null,
   "id": "caf1ef55",
   "metadata": {},
   "outputs": [],
   "source": [
    "sample.groupby('pickup_timeofday').mean().compute()[['passenger_count','fare_amount','tip_amount','duration']].style.highlight_max(color='lightblue').highlight_min(color='pink')"
   ]
  },
  {
   "cell_type": "markdown",
   "id": "5ed87101",
   "metadata": {},
   "source": [
    "#### time of day with fare amount"
   ]
  },
  {
   "cell_type": "code",
   "execution_count": null,
   "id": "1b6f7115",
   "metadata": {},
   "outputs": [],
   "source": [
    "##fare_amount by time of day\n",
    "p=sns.lineplot(x='pickup_timeofday',y='fare_amount',data=sample)\n",
    "p.set(title=\"Fare amount frequency for piyckup time of day\")"
   ]
  },
  {
   "cell_type": "markdown",
   "id": "cd3e136a",
   "metadata": {},
   "source": [
    "As we see late night the fair amount  is more."
   ]
  },
  {
   "cell_type": "code",
   "execution_count": null,
   "id": "27711886",
   "metadata": {},
   "outputs": [],
   "source": [
    " \n",
    "plt.figure(figsize=(10, 8))\n",
    "sns.heatmap(sample.corr(),xticklabels=sample.columns[:-8],yticklabels=sample.columns[:-8])\n",
    "plt.suptitle('Pearson Correlation Heatmap')\n",
    "plt.show();"
   ]
  },
  {
   "cell_type": "markdown",
   "id": "7acec022",
   "metadata": {},
   "source": [
    "#### type of payment by passenger"
   ]
  },
  {
   "cell_type": "code",
   "execution_count": null,
   "id": "77221774",
   "metadata": {},
   "outputs": [],
   "source": [
    "##fare_amount per hour\n",
    "p=sns.lineplot(x='payment_type',y='passenger_count',data=sample)\n",
    "p.set(title=\"passenger count by type of payment\")\n"
   ]
  },
  {
   "cell_type": "markdown",
   "id": "bf9bd3b5-a121-4765-b799-f5683e195df8",
   "metadata": {},
   "source": [
    "Maximum payments done by UNK. Equal no of passengers used card and cash payments."
   ]
  },
  {
   "cell_type": "markdown",
   "id": "6d34348b-af9a-4f15-a6c7-af623c5bcc54",
   "metadata": {},
   "source": [
    "`Credit card\n",
    "Cash\n",
    "No charge\n",
    "Dispute\n",
    "Unknown\n",
    "Voided trip'"
   ]
  },
  {
   "cell_type": "markdown",
   "id": "e4c689a7",
   "metadata": {
    "tags": []
   },
   "source": [
    "#### passenger count"
   ]
  },
  {
   "cell_type": "code",
   "execution_count": null,
   "id": "b19a3729-f993-4e8e-a25f-6d5ff06681b7",
   "metadata": {},
   "outputs": [],
   "source": [
    "sample.passenger_count.value_counts().compute()"
   ]
  },
  {
   "cell_type": "code",
   "execution_count": null,
   "id": "ea50e1a3",
   "metadata": {},
   "outputs": [],
   "source": [
    "p=sns.countplot(x='passenger_count',data=sample.compute())\n",
    "p.set(title=\"passenger frequency\");"
   ]
  },
  {
   "cell_type": "markdown",
   "id": "8c4093d3",
   "metadata": {},
   "source": [
    "Most rides taken by the single passenger"
   ]
  },
  {
   "cell_type": "code",
   "execution_count": null,
   "id": "75bf4497",
   "metadata": {},
   "outputs": [],
   "source": [
    "sample.groupby('passenger_count').mean().compute()[['fare_amount','tip_amount','duration']].style.highlight_max(color='lightblue').highlight_min(color='pink')"
   ]
  },
  {
   "cell_type": "markdown",
   "id": "c9ab9554-490b-4eb4-ad20-57641bae648e",
   "metadata": {},
   "source": [
    "Tip amount and duration of travel show upward trend with increasing number of passengers. "
   ]
  },
  {
   "cell_type": "code",
   "execution_count": null,
   "id": "dfddecd7",
   "metadata": {},
   "outputs": [],
   "source": [
    "#Fare amount mean and standard deviation:\n",
    "fare_amount_mean = sample[\"fare_amount\"].mean()\n",
    "#fare_amount_standard_deviation = math.sqrt(((sample[\"fare_amount\"] - fare_amount_mean) ** 2).mean())\n",
    "fare_amount_standard_deviation=sample[\"fare_amount\"].std()\n",
    "\n",
    "print(\"average fair amount (mean) : ${0:.2f}\".format(fare_amount_mean.compute()))\n",
    "print(\"fare amount standard deviation : ${0:.2f}\\n\".format(fare_amount_standard_deviation.compute()))"
   ]
  },
  {
   "cell_type": "markdown",
   "id": "18ab5c3c",
   "metadata": {},
   "source": [
    "#### check the taxi’s fair amount requency by  using Histogram."
   ]
  },
  {
   "cell_type": "code",
   "execution_count": null,
   "id": "993d7bc4",
   "metadata": {},
   "outputs": [],
   "source": [
    "# plot histogram of fare\n",
    "plt.figure(figsize=(10,6))\n",
    "sns.set(color_codes=True)\n",
    "ax = sns.distplot(sample.fare_amount, bins=15, kde=False)\n",
    "plt.xlabel('Fare $USD')\n",
    "plt.ylabel('Frequency')\n",
    "\n",
    "    \n",
    "plt.title('Fare Amount Histogram', fontsize=15)\n",
    "plt.show()"
   ]
  },
  {
   "cell_type": "markdown",
   "id": "4be5a648",
   "metadata": {},
   "source": [
    "It shows up, greater part of taxi ride charges are between five to 10 dollars."
   ]
  },
  {
   "cell_type": "code",
   "execution_count": null,
   "id": "af723592",
   "metadata": {},
   "outputs": [],
   "source": [
    "sample.head()"
   ]
  },
  {
   "cell_type": "markdown",
   "id": "8be6f65d",
   "metadata": {},
   "source": [
    "#### Distance and Vendor"
   ]
  },
  {
   "cell_type": "code",
   "execution_count": null,
   "id": "4655da4c",
   "metadata": {},
   "outputs": [],
   "source": [
    "plt.figure(figsize=(10,6))\n",
    "p=sns.barplot(y='trip_distance',x='vendor_id',data=sample.compute(),estimator=np.mean)\n",
    "plt.title(\"distance frequency by vender id\", fontsize=15)"
   ]
  },
  {
   "cell_type": "markdown",
   "id": "4dc1209e",
   "metadata": {},
   "source": [
    "The distribution for both vendors is very similar."
   ]
  },
  {
   "cell_type": "code",
   "execution_count": null,
   "id": "64aac373",
   "metadata": {},
   "outputs": [],
   "source": [
    "sample.groupby('vendor_id').mean().compute()[['passenger_count','fare_amount','tip_amount','duration','trip_distance']].style.highlight_max(color='lightblue').highlight_min(color='pink')"
   ]
  },
  {
   "cell_type": "markdown",
   "id": "259132df",
   "metadata": {},
   "source": [
    "#### Distance per passenger count"
   ]
  },
  {
   "cell_type": "code",
   "execution_count": null,
   "id": "49ec129f",
   "metadata": {},
   "outputs": [],
   "source": [
    "plt.figure(figsize=(10,6))\n",
    "p=sns.catplot(y='trip_distance',x='passenger_count',data=sample.compute(),kind=\"strip\")\n",
    "p.set(title=\"passenger count by distance\")"
   ]
  },
  {
   "cell_type": "markdown",
   "id": "19b99eb6",
   "metadata": {},
   "source": [
    "We see some of the longer distances are covered by either 1 or 2 passenger rides."
   ]
  },
  {
   "cell_type": "markdown",
   "id": "21cf61d8",
   "metadata": {},
   "source": [
    "#### Distance per day of week"
   ]
  },
  {
   "cell_type": "code",
   "execution_count": null,
   "id": "27cb50d8",
   "metadata": {},
   "outputs": [],
   "source": [
    "plt.figure(figsize=(10,6))\n",
    "p=sns.lineplot(x='pickup_day',y='trip_distance',data=sample)\n",
    "p.set(title=\"distance frequency for pickup day\")"
   ]
  },
  {
   "cell_type": "markdown",
   "id": "d311a625",
   "metadata": {},
   "source": [
    "- Distances are longer on Sunday and friday probably because it’s weekend.\n",
    "- Tuesday trip distances are also quite high.\n"
   ]
  },
  {
   "cell_type": "markdown",
   "id": "9ff7e471",
   "metadata": {},
   "source": [
    "#### Distance per hour of day"
   ]
  },
  {
   "cell_type": "code",
   "execution_count": null,
   "id": "69e4261f",
   "metadata": {},
   "outputs": [],
   "source": [
    "plt.figure(figsize=(10,6))\n",
    "p=sns.lineplot(x='pickup_hour',y='trip_distance',data=sample)\n",
    "p.set(title=\"distance frequency for pickup hour\")"
   ]
  },
  {
   "cell_type": "markdown",
   "id": "0b441bce",
   "metadata": {},
   "source": [
    "Distances are the longest around 5 am."
   ]
  },
  {
   "cell_type": "markdown",
   "id": "8a9f51f4",
   "metadata": {},
   "source": [
    "#### Distance per time of day"
   ]
  },
  {
   "cell_type": "code",
   "execution_count": null,
   "id": "bbd13c5d",
   "metadata": {},
   "outputs": [],
   "source": [
    "plt.figure(figsize=(10,6))\n",
    "p=sns.lineplot(x='pickup_timeofday',y='trip_distance',data=sample)\n",
    "p.set(title=\"distance frequency for pickup time of day\")"
   ]
  },
  {
   "cell_type": "markdown",
   "id": "9e222f93",
   "metadata": {},
   "source": [
    "As seen above also, distances being the longest during late night or it maybe called as early morning too.\n",
    "\n",
    "This can probably point to outstation trips where people start early for the day."
   ]
  },
  {
   "cell_type": "markdown",
   "id": "eab3e41e",
   "metadata": {},
   "source": [
    "#### Distance per month"
   ]
  },
  {
   "cell_type": "code",
   "execution_count": null,
   "id": "74500511",
   "metadata": {},
   "outputs": [],
   "source": [
    "plt.figure(figsize=(10,6))\n",
    "p=sns.lineplot(x='pickup_month',y='trip_distance',data=sample)\n",
    "p.set(title=\"distance frequency for pickup month\")"
   ]
  },
  {
   "cell_type": "markdown",
   "id": "75d1c990",
   "metadata": {},
   "source": [
    "As we also saw during trip duration per month, similarly trip distance is same beacuse here my datails using only two months"
   ]
  },
  {
   "cell_type": "markdown",
   "id": "217b695e",
   "metadata": {},
   "source": [
    "#### price_per_mile by pickup day"
   ]
  },
  {
   "cell_type": "code",
   "execution_count": null,
   "id": "d5d8aebb",
   "metadata": {},
   "outputs": [],
   "source": [
    "plt.figure(figsize=(10,6))\n",
    "p= sns.lineplot(x='pickup_day',y='price_per_mile',data=sample)\n",
    "p.set(title=\"fare per mile for pickup day\")\n"
   ]
  },
  {
   "cell_type": "markdown",
   "id": "e0610158",
   "metadata": {},
   "source": [
    "As we saw sundays are higher rate for mile."
   ]
  },
  {
   "cell_type": "code",
   "execution_count": null,
   "id": "7cd1fb4b",
   "metadata": {},
   "outputs": [],
   "source": [
    "plt.figure(figsize=(10,6));\n",
    "p=sns.lineplot(x='pickup_hour',y='price_per_mile',data=sample)\n",
    "p.set(title=\"fare per mile for pickup hour\")\n"
   ]
  },
  {
   "cell_type": "markdown",
   "id": "a22b58fc",
   "metadata": {},
   "source": [
    "As we saw 5 am is peak hour paying by highest per mile"
   ]
  },
  {
   "cell_type": "code",
   "execution_count": null,
   "id": "7e6cbf52",
   "metadata": {},
   "outputs": [],
   "source": [
    "plt.figure(figsize=(10,6))\n",
    "p=sns.lineplot(x='pickup_timeofday',y='price_per_mile',data=sample)\n",
    "p.set(title=\"fare per mile for pickup time of day\")"
   ]
  },
  {
   "cell_type": "markdown",
   "id": "f69ba329",
   "metadata": {},
   "source": [
    "Latenight times are highest rate per mile"
   ]
  },
  {
   "cell_type": "markdown",
   "id": "4884f198",
   "metadata": {},
   "source": [
    "#### Passenger Count and Vendor id"
   ]
  },
  {
   "cell_type": "code",
   "execution_count": null,
   "id": "315b19fe",
   "metadata": {},
   "outputs": [],
   "source": [
    "plt.figure(figsize=(10,6))\n",
    "p=sns.barplot(y='passenger_count',x='vendor_id',data=sample.compute())\n",
    "p.set(title=\"vendor_id shared by passenger\")"
   ]
  },
  {
   "cell_type": "markdown",
   "id": "f69b9c9d",
   "metadata": {},
   "source": [
    "This shows that vendor VTS generally carries more passengers than vendor CMT  passenger rides."
   ]
  },
  {
   "cell_type": "markdown",
   "id": "ed05deb3",
   "metadata": {},
   "source": [
    "#### Relationship between fareamount and tip amount "
   ]
  },
  {
   "cell_type": "code",
   "execution_count": null,
   "id": "1c11f014",
   "metadata": {},
   "outputs": [],
   "source": [
    "#p=sns.lineplot(y='tip_amount',x='fare_amount',data=sample)\n",
    "plt.figure(figsize=(10,6))\n",
    "p=sns.scatterplot(x=\"fare_amount\", y=\"tip_amount\", data=sample);\n",
    "p.set(title=\"tip amount accodring to fare amount\")"
   ]
  },
  {
   "cell_type": "markdown",
   "id": "555d9c72-20c1-4f25-a861-92edc154d509",
   "metadata": {},
   "source": [
    "We can see fare_amount is between 5 to 10 USD the tip mount share is greater."
   ]
  },
  {
   "cell_type": "markdown",
   "id": "e4f100ae",
   "metadata": {},
   "source": [
    "#### Relationship between tip amount and passenger"
   ]
  },
  {
   "cell_type": "code",
   "execution_count": null,
   "id": "d0e296f2",
   "metadata": {},
   "outputs": [],
   "source": [
    "plt.figure(figsize=(10,6))\n",
    "p=sns.relplot( x=\"passenger_count\",y=\"tip_amount\", kind=\"line\", data=sample);\n",
    "p.set(title=\"tip amount accodring to passenger\")"
   ]
  },
  {
   "cell_type": "markdown",
   "id": "71d9c22c-eb82-4d88-8187-5f7992499fe9",
   "metadata": {},
   "source": [
    "the tip amount is varrying by number of passengers.When 5 passengers are taking taxi paying more tip."
   ]
  },
  {
   "cell_type": "code",
   "execution_count": null,
   "id": "b098b1e3-6378-42b4-ac9d-d149e91f7f65",
   "metadata": {},
   "outputs": [],
   "source": [
    "sample.columns"
   ]
  },
  {
   "cell_type": "code",
   "execution_count": null,
   "id": "461b7614-b77e-4171-b6a7-b47fe13a9c18",
   "metadata": {},
   "outputs": [],
   "source": [
    "plt.figure(figsize=(10,6))\n",
    "p=sns.lineplot(x='dropoff_timeofday',y='tip_amount',data=sample)\n",
    "p.set(title=\"fare per mile for pickup time of day\")"
   ]
  },
  {
   "cell_type": "markdown",
   "id": "19acb080-78d1-4fd6-ae2b-d5837e5cb495",
   "metadata": {},
   "source": [
    "- High tip amount is often provided during late night.\n",
    "- Morming ad evening hours show almost same trend in tip amount. \n",
    "- Afternoon tip amount is the least."
   ]
  },
  {
   "cell_type": "markdown",
   "id": "eb0c4808",
   "metadata": {},
   "source": [
    "#### Relationshipb between Distance and tipamount"
   ]
  },
  {
   "cell_type": "code",
   "execution_count": null,
   "id": "0c9c46f1",
   "metadata": {},
   "outputs": [],
   "source": [
    "plt.figure(figsize=(10,6))\n",
    "p=sns.scatterplot( x=\"trip_distance\",y=\"tip_amount\", data=sample);\n",
    "p.set(title=\"tip amount according to distance\")"
   ]
  },
  {
   "cell_type": "markdown",
   "id": "ff9c78d4-b33a-4d9c-90a6-765f01e121c9",
   "metadata": {},
   "source": [
    "- Higher trip distance does not yield to higher tip amount"
   ]
  },
  {
   "cell_type": "code",
   "execution_count": null,
   "id": "faa7aecb",
   "metadata": {},
   "outputs": [],
   "source": [
    "#sns.catplot(y='distance',x='fare_amount',data=sample.compute(),kind=\"strip\");"
   ]
  },
  {
   "cell_type": "code",
   "execution_count": null,
   "id": "67813014-a07e-44d5-ba80-6a8e6f9599ac",
   "metadata": {},
   "outputs": [],
   "source": [
    "sample.columns[:-8]"
   ]
  },
  {
   "cell_type": "code",
   "execution_count": null,
   "id": "f94d3759",
   "metadata": {},
   "outputs": [],
   "source": [
    "# get rid fro now !! \n",
    "plt.figure(figsize=(14, 10))\n",
    "sns.heatmap(sample.corr(),xticklabels=sample.columns[:-8],yticklabels=sample.columns[:-8],annot=True,fmt='.2f')\n",
    "plt.suptitle('Pearson Correlation Heatmap')\n",
    "plt.show();"
   ]
  },
  {
   "cell_type": "code",
   "execution_count": null,
   "id": "276dc677",
   "metadata": {},
   "outputs": [],
   "source": [
    "pickup_locations = sample[[\"pickup_latitude\", \"pickup_longitude\", \"pickup_day\",\"pickup_timeofday\",\"dropoff_latitude\", \"dropoff_longitude\", \"dropoff_day\",\"dropoff_timeofday\"]].compute()\n",
    "pickup_location_sample = pickup_locations.sample(frac=0.001)"
   ]
  },
  {
   "cell_type": "code",
   "execution_count": null,
   "id": "41b1806b",
   "metadata": {},
   "outputs": [],
   "source": [
    "map1 = folium.Map(location=[pickup_location_sample.pickup_latitude.mean(), pickup_location_sample.pickup_longitude.mean()], zoom_start=10, control_scale=True)"
   ]
  },
  {
   "cell_type": "code",
   "execution_count": null,
   "id": "e8e60c39",
   "metadata": {},
   "outputs": [],
   "source": [
    "for index, location_info in pickup_location_sample.iterrows():\n",
    "    folium.Marker([location_info[\"pickup_latitude\"], location_info[\"pickup_longitude\"]], popup=location_info[[\"pickup_day\",\"pickup_timeofday\"]],icon=folium.Icon(color='red')).add_to(map1)\n",
    "for index, location_info in pickup_location_sample.iterrows():\n",
    "    folium.Marker([location_info[\"dropoff_latitude\"], location_info[\"dropoff_longitude\"]], popup=location_info[[\"dropoff_day\",\"dropoff_timeofday\"]],icon=folium.Icon(color='blue')).add_to(map1)"
   ]
  },
  {
   "cell_type": "code",
   "execution_count": null,
   "id": "cb8f0f6e",
   "metadata": {},
   "outputs": [],
   "source": [
    "map1"
   ]
  },
  {
   "cell_type": "code",
   "execution_count": null,
   "id": "6a69e374",
   "metadata": {},
   "outputs": [],
   "source": [
    "pickup_location_sample1 = pickup_locations.sample(frac=0.01)"
   ]
  },
  {
   "cell_type": "code",
   "execution_count": null,
   "id": "a2740dac",
   "metadata": {
    "tags": []
   },
   "outputs": [],
   "source": [
    "#create a map\n",
    "this_map = folium.Map(location=[pickup_location_sample.pickup_latitude.mean(), pickup_location_sample.pickup_longitude.mean()], zoom_start=10, control_scale=True)\n",
    "\n",
    "# List comprehension to make out list of lists\n",
    "heat_data = [[row['pickup_latitude'],row['pickup_longitude']] for index, row in pickup_location_sample1.iterrows()]\n",
    "\n",
    "# Plot it on the map\n",
    "HeatMap(heat_data,\n",
    "             color='blue',\n",
    "             fill_color='#FD8A6C').add_to(this_map)\n",
    "\n",
    "\n",
    "#Set the zoom to the maximum possible\n",
    "#this_map.fit_bounds(this_map.get_bounds())\n",
    "    \n",
    "this_map  "
   ]
  },
  {
   "cell_type": "code",
   "execution_count": null,
   "id": "d19e9992",
   "metadata": {},
   "outputs": [],
   "source": [
    "#create a map\n",
    "this_map1 = folium.Map(location=[pickup_location_sample.pickup_latitude.mean(), pickup_location_sample.pickup_longitude.mean()], zoom_start=10, control_scale=True)\n",
    "\n",
    "# List comprehension to make out list of lists\n",
    "heat_data = [[row['dropoff_latitude'],row['dropoff_longitude']] for index, row in pickup_location_sample1.iterrows()]\n",
    "\n",
    "# Plot it on the map\n",
    "HeatMap(heat_data,\n",
    "             color='red',\n",
    "             fill_color='#FD8A6C').add_to(this_map1)\n",
    "\n",
    "#Set the zoom to the maximum possible\n",
    "#this_map.fit_bounds(this_map.get_bounds())\n",
    "    \n",
    "this_map1  "
   ]
  },
  {
   "cell_type": "markdown",
   "id": "9f788202-3b2a-46c7-89c4-f59ad24ad6d8",
   "metadata": {},
   "source": [
    "location analysis based on fare and tip amount "
   ]
  },
  {
   "cell_type": "code",
   "execution_count": null,
   "id": "4b085735-85b7-49a8-ade9-a6ee35a656e5",
   "metadata": {},
   "outputs": [],
   "source": [
    "sample.columns\n"
   ]
  },
  {
   "cell_type": "code",
   "execution_count": null,
   "id": "02215393-b5b8-4bef-a0b1-c398f6e6f378",
   "metadata": {},
   "outputs": [],
   "source": [
    "df_=sample[[\"tip_amount\",\"pickup_longitude\",\"pickup_latitude\",\"dropoff_longitude\",\"dropoff_latitude\",\"trip_distance\",\"fare_amount\"]].compute().nlargest(20,[\"tip_amount\",\"fare_amount\"])\n",
    "type(df_)\n",
    "df_\n"
   ]
  },
  {
   "cell_type": "code",
   "execution_count": null,
   "id": "7c6c880e-f426-4ebe-9d56-62ce556b329f",
   "metadata": {},
   "outputs": [],
   "source": [
    "# -*- coding: utf-8 -*-\n",
    "'''Test of Folium polylines'''\n",
    "\n",
    "import folium\n",
    "\n",
    "# Coordinates are 15 points on the great circle from Boston to \n",
    "# San Francisco.\n",
    "# Reference: http://williams.best.vwh.net/avform.htm#Intermediate\n",
    "#\n",
    "coordinates = []\n",
    "for i in range(len(df_)):\n",
    "    coordinates.append(\n",
    "        [[df_.iloc[i].pickup_latitude, df_.iloc[i].pickup_longitude],\n",
    "        [df_.iloc[i].dropoff_latitude,df_.iloc[i].dropoff_longitude]]\n",
    "        )\n",
    "\n",
    "\n",
    "m = folium.Map(location=[40.715271,-74.009209], zoom_start=12)\n",
    "folium.PolyLine(coordinates, line_color='#FF0000', line_weight=5).add_to(m)\n",
    "\n",
    "for index, location_info in df_.iterrows():\n",
    "    folium.Marker([location_info[\"pickup_latitude\"], location_info[\"pickup_longitude\"]], popup=location_info[[\"tip_amount\",\"fare_amount\",\"trip_distance\"]],icon=folium.Icon(color='green')).add_to(m)\n",
    "for index, location_info in df_.iterrows():\n",
    "    folium.Marker([location_info[\"dropoff_latitude\"], location_info[\"dropoff_longitude\"]], popup=location_info[[\"tip_amount\",\"fare_amount\",\"trip_distance\"]],icon=folium.Icon(color='red')).add_to(m)\n",
    "\n",
    "m"
   ]
  },
  {
   "cell_type": "code",
   "execution_count": null,
   "id": "687c22ba-93e7-45ac-9d05-d6a59a221b2a",
   "metadata": {},
   "outputs": [],
   "source": [
    "coordinates = [\n",
    "    [df_.iloc[0].pickup_latitude, df_.iloc[0].pickup_longitude],\n",
    "    [df_.iloc[0].dropoff_latitude,df_.iloc[0].dropoff_longitude]\n",
    "    ]\n",
    "coordinates"
   ]
  },
  {
   "cell_type": "code",
   "execution_count": null,
   "id": "71717621-eaa6-4f25-a874-a98868a9ed35",
   "metadata": {},
   "outputs": [],
   "source": [
    "df_.iloc[0]['pickup_longitude']"
   ]
  },
  {
   "cell_type": "code",
   "execution_count": null,
   "id": "b23d1f72-3b23-47da-831d-93d38739a235",
   "metadata": {},
   "outputs": [
    {
     "name": "stderr",
     "output_type": "stream",
     "text": [
      "distributed.client - ERROR - Failed to reconnect to scheduler after 30.00 seconds, closing client\n",
      "_GatheringFuture exception was never retrieved\n",
      "future: <_GatheringFuture finished exception=CancelledError()>\n",
      "asyncio.exceptions.CancelledError\n"
     ]
    }
   ],
   "source": [
    "df_.pickup_latitude"
   ]
  },
  {
   "cell_type": "markdown",
   "id": "f7182762-5061-4a98-9759-fa192fcaf074",
   "metadata": {},
   "source": [
    "### Conclusion"
   ]
  },
  {
   "cell_type": "markdown",
   "id": "74cdd054-65a0-41df-90cf-9579f8bd49c7",
   "metadata": {},
   "source": [
    "- The day with most pickups is Thursday, Friday and Wednesday\n",
    "- The hour with the most rides seems to be between 6pm and 10pm\n",
    "- Sundays people tend to travel longer distances\n",
    "- Journeys with one or two passengers ten to tip more\n",
    "- journeys to and from the airport seem to give higher tips\n",
    "- Also trip late at night tend to give higher tips\n",
    "- Park Avenue, Theatre district and New york Penn Station and good locations for a taxi to be to get a customer"
   ]
  },
  {
   "cell_type": "code",
   "execution_count": null,
   "id": "89c75efb-01a0-4081-b1e6-d60add8763c7",
   "metadata": {},
   "outputs": [],
   "source": []
  }
 ],
 "metadata": {
  "kernelspec": {
   "display_name": "Python 3 (ipykernel)",
   "language": "python",
   "name": "python3"
  },
  "language_info": {
   "codemirror_mode": {
    "name": "ipython",
    "version": 3
   },
   "file_extension": ".py",
   "mimetype": "text/x-python",
   "name": "python",
   "nbconvert_exporter": "python",
   "pygments_lexer": "ipython3",
   "version": "3.9.7"
  }
 },
 "nbformat": 4,
 "nbformat_minor": 5
}
